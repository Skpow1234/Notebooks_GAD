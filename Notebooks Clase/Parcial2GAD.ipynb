{
  "nbformat": 4,
  "nbformat_minor": 0,
  "metadata": {
    "colab": {
      "provenance": []
    },
    "kernelspec": {
      "name": "python3",
      "display_name": "Python 3"
    },
    "language_info": {
      "name": "python"
    }
  },
  "cells": [
    {
      "cell_type": "markdown",
      "source": [
        "ESTE PARCIAS FUE REALIZADO POR:\n",
        "\n",
        "María Jose Ospina Samboni - 58539\n",
        "ospinamj707@gmail.com"
      ],
      "metadata": {
        "id": "e050JELoBRJQ"
      }
    },
    {
      "cell_type": "code",
      "execution_count": null,
      "metadata": {
        "id": "kzBPWN3QBMQ1"
      },
      "outputs": [],
      "source": [
        "#Uso e importación de la libreria Pandas para Python\n",
        "import pandas as pd\n",
        "#Uso e importación de la libreria Numpy para Python\n",
        "import numpy as np\n",
        "#Uso e importación de la libreria Skilearn para Python\n",
        "from sklearn.model_selection import train_test_split as tts# Se usa para dividir el conjunto de entrenamiento y pruebas\n",
        "from sklearn.metrics import confusion_matrix\n",
        "from sklearn.naive_bayes import GaussianNB\n",
        "\n",
        "from sklearn.preprocessing import MinMaxScaler\n",
        "from sklearn.neighbors import KNeighborsClassifier\n",
        "from sklearn.metrics import classification_report\n",
        "\n",
        "\n",
        "# Librerias de visualizacion\n",
        "import matplotlib.pyplot as plt\n",
        "import seaborn as sns\n",
        "\n",
        "#Uso e importación para trabajar RED NEURONAL\n",
        "from sklearn.neural_network import MLPClassifier"
      ]
    },
    {
      "cell_type": "code",
      "source": [
        "#Cargar el conjunto de datos\n",
        "sheet_id = '1zhjC9kDt4vzGmz_a7Ah7Uf-L7YzWNbwBzsSo3OkbSRA'\n",
        "sheet_name = 'pd'\n",
        "url = f'https://docs.google.com/spreadsheets/d/{sheet_id}/gviz/tq?tqx=out:csv&sheet={sheet_name}'\n",
        "datos = pd.read_csv(url, on_bad_lines='skip')"
      ],
      "metadata": {
        "id": "aeHnS758EVmg"
      },
      "execution_count": null,
      "outputs": []
    },
    {
      "cell_type": "code",
      "source": [
        "#Informarnos sobre el datasset\n",
        "datos"
      ],
      "metadata": {
        "colab": {
          "base_uri": "https://localhost:8080/",
          "height": 424
        },
        "id": "qq-F7QWGFKEP",
        "outputId": "7f1cfcc3-3f00-4229-992f-fce3a553d83b"
      },
      "execution_count": null,
      "outputs": [
        {
          "output_type": "execute_result",
          "data": {
            "text/plain": [
              "     Ventas  Precio que vendio  Entrada para la empresa  Ganancias  \\\n",
              "0      9.50                138                       73         11   \n",
              "1     11.22                111                       48         16   \n",
              "2     10.06                113                       35         10   \n",
              "3      7.40                117                      100          4   \n",
              "4      4.15                141                       64          3   \n",
              "..      ...                ...                      ...        ...   \n",
              "395   12.57                138                      108         17   \n",
              "396    6.14                139                       23          3   \n",
              "397    7.41                162                       26         12   \n",
              "398    5.94                100                       79          7   \n",
              "399    9.71                134                       37          0   \n",
              "\n",
              "     Personas que compraron Categor’a de vendedor  Edad   US  \n",
              "0                       276                   Bad    42   No  \n",
              "1                       260                  Good    65  Yes  \n",
              "2                       269                Medium    59  Yes  \n",
              "3                       466                Medium    55  Yes  \n",
              "4                       340                   Bad    38   No  \n",
              "..                      ...                   ...   ...  ...  \n",
              "395                     203                  Good    33  Yes  \n",
              "396                      37                Medium    55  Yes  \n",
              "397                     368                Medium    40  Yes  \n",
              "398                     284                   Bad    50   No  \n",
              "399                      27                  Good    49  Yes  \n",
              "\n",
              "[400 rows x 8 columns]"
            ],
            "text/html": [
              "\n",
              "  <div id=\"df-547f3ad2-b8d0-4666-a79c-f9eae3e32de7\">\n",
              "    <div class=\"colab-df-container\">\n",
              "      <div>\n",
              "<style scoped>\n",
              "    .dataframe tbody tr th:only-of-type {\n",
              "        vertical-align: middle;\n",
              "    }\n",
              "\n",
              "    .dataframe tbody tr th {\n",
              "        vertical-align: top;\n",
              "    }\n",
              "\n",
              "    .dataframe thead th {\n",
              "        text-align: right;\n",
              "    }\n",
              "</style>\n",
              "<table border=\"1\" class=\"dataframe\">\n",
              "  <thead>\n",
              "    <tr style=\"text-align: right;\">\n",
              "      <th></th>\n",
              "      <th>Ventas</th>\n",
              "      <th>Precio que vendio</th>\n",
              "      <th>Entrada para la empresa</th>\n",
              "      <th>Ganancias</th>\n",
              "      <th>Personas que compraron</th>\n",
              "      <th>Categor’a de vendedor</th>\n",
              "      <th>Edad</th>\n",
              "      <th>US</th>\n",
              "    </tr>\n",
              "  </thead>\n",
              "  <tbody>\n",
              "    <tr>\n",
              "      <th>0</th>\n",
              "      <td>9.50</td>\n",
              "      <td>138</td>\n",
              "      <td>73</td>\n",
              "      <td>11</td>\n",
              "      <td>276</td>\n",
              "      <td>Bad</td>\n",
              "      <td>42</td>\n",
              "      <td>No</td>\n",
              "    </tr>\n",
              "    <tr>\n",
              "      <th>1</th>\n",
              "      <td>11.22</td>\n",
              "      <td>111</td>\n",
              "      <td>48</td>\n",
              "      <td>16</td>\n",
              "      <td>260</td>\n",
              "      <td>Good</td>\n",
              "      <td>65</td>\n",
              "      <td>Yes</td>\n",
              "    </tr>\n",
              "    <tr>\n",
              "      <th>2</th>\n",
              "      <td>10.06</td>\n",
              "      <td>113</td>\n",
              "      <td>35</td>\n",
              "      <td>10</td>\n",
              "      <td>269</td>\n",
              "      <td>Medium</td>\n",
              "      <td>59</td>\n",
              "      <td>Yes</td>\n",
              "    </tr>\n",
              "    <tr>\n",
              "      <th>3</th>\n",
              "      <td>7.40</td>\n",
              "      <td>117</td>\n",
              "      <td>100</td>\n",
              "      <td>4</td>\n",
              "      <td>466</td>\n",
              "      <td>Medium</td>\n",
              "      <td>55</td>\n",
              "      <td>Yes</td>\n",
              "    </tr>\n",
              "    <tr>\n",
              "      <th>4</th>\n",
              "      <td>4.15</td>\n",
              "      <td>141</td>\n",
              "      <td>64</td>\n",
              "      <td>3</td>\n",
              "      <td>340</td>\n",
              "      <td>Bad</td>\n",
              "      <td>38</td>\n",
              "      <td>No</td>\n",
              "    </tr>\n",
              "    <tr>\n",
              "      <th>...</th>\n",
              "      <td>...</td>\n",
              "      <td>...</td>\n",
              "      <td>...</td>\n",
              "      <td>...</td>\n",
              "      <td>...</td>\n",
              "      <td>...</td>\n",
              "      <td>...</td>\n",
              "      <td>...</td>\n",
              "    </tr>\n",
              "    <tr>\n",
              "      <th>395</th>\n",
              "      <td>12.57</td>\n",
              "      <td>138</td>\n",
              "      <td>108</td>\n",
              "      <td>17</td>\n",
              "      <td>203</td>\n",
              "      <td>Good</td>\n",
              "      <td>33</td>\n",
              "      <td>Yes</td>\n",
              "    </tr>\n",
              "    <tr>\n",
              "      <th>396</th>\n",
              "      <td>6.14</td>\n",
              "      <td>139</td>\n",
              "      <td>23</td>\n",
              "      <td>3</td>\n",
              "      <td>37</td>\n",
              "      <td>Medium</td>\n",
              "      <td>55</td>\n",
              "      <td>Yes</td>\n",
              "    </tr>\n",
              "    <tr>\n",
              "      <th>397</th>\n",
              "      <td>7.41</td>\n",
              "      <td>162</td>\n",
              "      <td>26</td>\n",
              "      <td>12</td>\n",
              "      <td>368</td>\n",
              "      <td>Medium</td>\n",
              "      <td>40</td>\n",
              "      <td>Yes</td>\n",
              "    </tr>\n",
              "    <tr>\n",
              "      <th>398</th>\n",
              "      <td>5.94</td>\n",
              "      <td>100</td>\n",
              "      <td>79</td>\n",
              "      <td>7</td>\n",
              "      <td>284</td>\n",
              "      <td>Bad</td>\n",
              "      <td>50</td>\n",
              "      <td>No</td>\n",
              "    </tr>\n",
              "    <tr>\n",
              "      <th>399</th>\n",
              "      <td>9.71</td>\n",
              "      <td>134</td>\n",
              "      <td>37</td>\n",
              "      <td>0</td>\n",
              "      <td>27</td>\n",
              "      <td>Good</td>\n",
              "      <td>49</td>\n",
              "      <td>Yes</td>\n",
              "    </tr>\n",
              "  </tbody>\n",
              "</table>\n",
              "<p>400 rows × 8 columns</p>\n",
              "</div>\n",
              "      <button class=\"colab-df-convert\" onclick=\"convertToInteractive('df-547f3ad2-b8d0-4666-a79c-f9eae3e32de7')\"\n",
              "              title=\"Convert this dataframe to an interactive table.\"\n",
              "              style=\"display:none;\">\n",
              "        \n",
              "  <svg xmlns=\"http://www.w3.org/2000/svg\" height=\"24px\"viewBox=\"0 0 24 24\"\n",
              "       width=\"24px\">\n",
              "    <path d=\"M0 0h24v24H0V0z\" fill=\"none\"/>\n",
              "    <path d=\"M18.56 5.44l.94 2.06.94-2.06 2.06-.94-2.06-.94-.94-2.06-.94 2.06-2.06.94zm-11 1L8.5 8.5l.94-2.06 2.06-.94-2.06-.94L8.5 2.5l-.94 2.06-2.06.94zm10 10l.94 2.06.94-2.06 2.06-.94-2.06-.94-.94-2.06-.94 2.06-2.06.94z\"/><path d=\"M17.41 7.96l-1.37-1.37c-.4-.4-.92-.59-1.43-.59-.52 0-1.04.2-1.43.59L10.3 9.45l-7.72 7.72c-.78.78-.78 2.05 0 2.83L4 21.41c.39.39.9.59 1.41.59.51 0 1.02-.2 1.41-.59l7.78-7.78 2.81-2.81c.8-.78.8-2.07 0-2.86zM5.41 20L4 18.59l7.72-7.72 1.47 1.35L5.41 20z\"/>\n",
              "  </svg>\n",
              "      </button>\n",
              "      \n",
              "  <style>\n",
              "    .colab-df-container {\n",
              "      display:flex;\n",
              "      flex-wrap:wrap;\n",
              "      gap: 12px;\n",
              "    }\n",
              "\n",
              "    .colab-df-convert {\n",
              "      background-color: #E8F0FE;\n",
              "      border: none;\n",
              "      border-radius: 50%;\n",
              "      cursor: pointer;\n",
              "      display: none;\n",
              "      fill: #1967D2;\n",
              "      height: 32px;\n",
              "      padding: 0 0 0 0;\n",
              "      width: 32px;\n",
              "    }\n",
              "\n",
              "    .colab-df-convert:hover {\n",
              "      background-color: #E2EBFA;\n",
              "      box-shadow: 0px 1px 2px rgba(60, 64, 67, 0.3), 0px 1px 3px 1px rgba(60, 64, 67, 0.15);\n",
              "      fill: #174EA6;\n",
              "    }\n",
              "\n",
              "    [theme=dark] .colab-df-convert {\n",
              "      background-color: #3B4455;\n",
              "      fill: #D2E3FC;\n",
              "    }\n",
              "\n",
              "    [theme=dark] .colab-df-convert:hover {\n",
              "      background-color: #434B5C;\n",
              "      box-shadow: 0px 1px 3px 1px rgba(0, 0, 0, 0.15);\n",
              "      filter: drop-shadow(0px 1px 2px rgba(0, 0, 0, 0.3));\n",
              "      fill: #FFFFFF;\n",
              "    }\n",
              "  </style>\n",
              "\n",
              "      <script>\n",
              "        const buttonEl =\n",
              "          document.querySelector('#df-547f3ad2-b8d0-4666-a79c-f9eae3e32de7 button.colab-df-convert');\n",
              "        buttonEl.style.display =\n",
              "          google.colab.kernel.accessAllowed ? 'block' : 'none';\n",
              "\n",
              "        async function convertToInteractive(key) {\n",
              "          const element = document.querySelector('#df-547f3ad2-b8d0-4666-a79c-f9eae3e32de7');\n",
              "          const dataTable =\n",
              "            await google.colab.kernel.invokeFunction('convertToInteractive',\n",
              "                                                     [key], {});\n",
              "          if (!dataTable) return;\n",
              "\n",
              "          const docLinkHtml = 'Like what you see? Visit the ' +\n",
              "            '<a target=\"_blank\" href=https://colab.research.google.com/notebooks/data_table.ipynb>data table notebook</a>'\n",
              "            + ' to learn more about interactive tables.';\n",
              "          element.innerHTML = '';\n",
              "          dataTable['output_type'] = 'display_data';\n",
              "          await google.colab.output.renderOutput(dataTable, element);\n",
              "          const docLink = document.createElement('div');\n",
              "          docLink.innerHTML = docLinkHtml;\n",
              "          element.appendChild(docLink);\n",
              "        }\n",
              "      </script>\n",
              "    </div>\n",
              "  </div>\n",
              "  "
            ]
          },
          "metadata": {},
          "execution_count": 81
        }
      ]
    },
    {
      "cell_type": "code",
      "source": [
        "#Visualizar dataset\n",
        "sns.countplot(x = \"US\", data = datos)\n",
        "plt.show()"
      ],
      "metadata": {
        "colab": {
          "base_uri": "https://localhost:8080/",
          "height": 449
        },
        "id": "6Et4r4M-N1Ip",
        "outputId": "b2c7a93d-5be8-4896-8226-892dfed15652"
      },
      "execution_count": null,
      "outputs": [
        {
          "output_type": "display_data",
          "data": {
            "text/plain": [
              "<Figure size 640x480 with 1 Axes>"
            ],
            "image/png": "[encoded data removed]"
          },
          "metadata": {}
        }
      ]
    },
    {
      "cell_type": "code",
      "source": [
        "column = list(datos.columns)\n",
        "column[len(column) - 3 ] = \"Categoria_de_vendedor\"\n",
        "column[len(column) - 4 ] = \"Personas_que_compraron\"\n",
        "column[len(column) - 6 ] = \"Entrada_para_la_empresa\"\n",
        "column[len(column) - 7 ] = \"Precio_que_vendio\"\n",
        "column\n",
        "\n",
        "datos.columns = column"
      ],
      "metadata": {
        "id": "ptB64Uo6O-8J"
      },
      "execution_count": null,
      "outputs": []
    },
    {
      "cell_type": "code",
      "source": [
        "def reemplazar(valor, num):\n",
        "  datos.replace(valor, num, inplace=True)\n",
        "\n",
        "reemplazar(\"Good\", 1)\n",
        "reemplazar(\"Medium\", 2)\n",
        "reemplazar(\"Bad\", 3)\n",
        "reemplazar(\"Yes\", 1)\n",
        "reemplazar(\"No\", 2)"
      ],
      "metadata": {
        "id": "kF_S8LqCWHmB"
      },
      "execution_count": null,
      "outputs": []
    },
    {
      "cell_type": "code",
      "source": [
        "#Seleccionar feactures\n",
        "X = datos.drop(['US'], axis = 1)\n",
        "#Seleccionar clase (Y)\n",
        "y = datos['US']"
      ],
      "metadata": {
        "id": "VxWswCmySseR"
      },
      "execution_count": null,
      "outputs": []
    },
    {
      "cell_type": "code",
      "source": [
        "#Dividir el conjunto de entrenamiento y testeo (Train: 70%, Test:30)\n",
        "X_train, X_test, y_train, y_test = tts(X, y, train_size=0.7, random_state=36)\n",
        "#X_train, X_test, y_train, y_test = tts(X, y, train_size=0.7, random_state=100)"
      ],
      "metadata": {
        "id": "ExZn1w6JOJ7Q"
      },
      "execution_count": null,
      "outputs": []
    },
    {
      "cell_type": "code",
      "source": [
        "#Seleccionar un modelo ML\n",
        "modeloG = GaussianNB()\n",
        "#modeloKN = KNeighborsClassifier()\n",
        "# Entrenar el modelo\n",
        "\n",
        "modeloG.fit(X_train, y_train)\n",
        "\n",
        "#modeloKN.fit(X_train, y_train)"
      ],
      "metadata": {
        "colab": {
          "base_uri": "https://localhost:8080/",
          "height": 75
        },
        "id": "OwdaKEByVkXx",
        "outputId": "33ade3e3-8bb4-44e1-fcc7-a1066af5ecbb"
      },
      "execution_count": null,
      "outputs": [
        {
          "output_type": "execute_result",
          "data": {
            "text/plain": [
              "GaussianNB()"
            ],
            "text/html": [
              "<style>#sk-container-id-16 {color: black;background-color: white;}#sk-container-id-16 pre{padding: 0;}#sk-container-id-16 div.sk-toggleable {background-color: white;}#sk-container-id-16 label.sk-toggleable__label {cursor: pointer;display: block;width: 100%;margin-bottom: 0;padding: 0.3em;box-sizing: border-box;text-align: center;}#sk-container-id-16 label.sk-toggleable__label-arrow:before {content: \"▸\";float: left;margin-right: 0.25em;color: #696969;}#sk-container-id-16 label.sk-toggleable__label-arrow:hover:before {color: black;}#sk-container-id-16 div.sk-estimator:hover label.sk-toggleable__label-arrow:before {color: black;}#sk-container-id-16 div.sk-toggleable__content {max-height: 0;max-width: 0;overflow: hidden;text-align: left;background-color: #f0f8ff;}#sk-container-id-16 div.sk-toggleable__content pre {margin: 0.2em;color: black;border-radius: 0.25em;background-color: #f0f8ff;}#sk-container-id-16 input.sk-toggleable__control:checked~div.sk-toggleable__content {max-height: 200px;max-width: 100%;overflow: auto;}#sk-container-id-16 input.sk-toggleable__control:checked~label.sk-toggleable__label-arrow:before {content: \"▾\";}#sk-container-id-16 div.sk-estimator input.sk-toggleable__control:checked~label.sk-toggleable__label {background-color: #d4ebff;}#sk-container-id-16 div.sk-label input.sk-toggleable__control:checked~label.sk-toggleable__label {background-color: #d4ebff;}#sk-container-id-16 input.sk-hidden--visually {border: 0;clip: rect(1px 1px 1px 1px);clip: rect(1px, 1px, 1px, 1px);height: 1px;margin: -1px;overflow: hidden;padding: 0;position: absolute;width: 1px;}#sk-container-id-16 div.sk-estimator {font-family: monospace;background-color: #f0f8ff;border: 1px dotted black;border-radius: 0.25em;box-sizing: border-box;margin-bottom: 0.5em;}#sk-container-id-16 div.sk-estimator:hover {background-color: #d4ebff;}#sk-container-id-16 div.sk-parallel-item::after {content: \"\";width: 100%;border-bottom: 1px solid gray;flex-grow: 1;}#sk-container-id-16 div.sk-label:hover label.sk-toggleable__label {background-color: #d4ebff;}#sk-container-id-16 div.sk-serial::before {content: \"\";position: absolute;border-left: 1px solid gray;box-sizing: border-box;top: 0;bottom: 0;left: 50%;z-index: 0;}#sk-container-id-16 div.sk-serial {display: flex;flex-direction: column;align-items: center;background-color: white;padding-right: 0.2em;padding-left: 0.2em;position: relative;}#sk-container-id-16 div.sk-item {position: relative;z-index: 1;}#sk-container-id-16 div.sk-parallel {display: flex;align-items: stretch;justify-content: center;background-color: white;position: relative;}#sk-container-id-16 div.sk-item::before, #sk-container-id-16 div.sk-parallel-item::before {content: \"\";position: absolute;border-left: 1px solid gray;box-sizing: border-box;top: 0;bottom: 0;left: 50%;z-index: -1;}#sk-container-id-16 div.sk-parallel-item {display: flex;flex-direction: column;z-index: 1;position: relative;background-color: white;}#sk-container-id-16 div.sk-parallel-item:first-child::after {align-self: flex-end;width: 50%;}#sk-container-id-16 div.sk-parallel-item:last-child::after {align-self: flex-start;width: 50%;}#sk-container-id-16 div.sk-parallel-item:only-child::after {width: 0;}#sk-container-id-16 div.sk-dashed-wrapped {border: 1px dashed gray;margin: 0 0.4em 0.5em 0.4em;box-sizing: border-box;padding-bottom: 0.4em;background-color: white;}#sk-container-id-16 div.sk-label label {font-family: monospace;font-weight: bold;display: inline-block;line-height: 1.2em;}#sk-container-id-16 div.sk-label-container {text-align: center;}#sk-container-id-16 div.sk-container {/* jupyter's `normalize.less` sets `[hidden] { display: none; }` but bootstrap.min.css set `[hidden] { display: none !important; }` so we also need the `!important` here to be able to override the default hidden behavior on the sphinx rendered scikit-learn.org. See: https://github.com/scikit-learn/scikit-learn/issues/21755 */display: inline-block !important;position: relative;}#sk-container-id-16 div.sk-text-repr-fallback {display: none;}</style><div id=\"sk-container-id-16\" class=\"sk-top-container\"><div class=\"sk-text-repr-fallback\"><pre>GaussianNB()</pre><b>In a Jupyter environment, please rerun this cell to show the HTML representation or trust the notebook. <br />On GitHub, the HTML representation is unable to render, please try loading this page with nbviewer.org.</b></div><div class=\"sk-container\" hidden><div class=\"sk-item\"><div class=\"sk-estimator sk-toggleable\"><input class=\"sk-toggleable__control sk-hidden--visually\" id=\"sk-estimator-id-16\" type=\"checkbox\" checked><label for=\"sk-estimator-id-16\" class=\"sk-toggleable__label sk-toggleable__label-arrow\">GaussianNB</label><div class=\"sk-toggleable__content\"><pre>GaussianNB()</pre></div></div></div></div></div>"
            ]
          },
          "metadata": {},
          "execution_count": 135
        }
      ]
    },
    {
      "cell_type": "code",
      "source": [
        "#Prediccion del modelo\n",
        "y_pred = modeloG.predict(X_test)\n",
        "\n",
        "#y_pred = modeloKN.predict(X_test)"
      ],
      "metadata": {
        "id": "q8-ftjk4aoOp"
      },
      "execution_count": null,
      "outputs": []
    },
    {
      "cell_type": "code",
      "source": [
        "# Resultados (Metricas de diagnostico)\n",
        "print(cr(y_test, y_pred))"
      ],
      "metadata": {
        "colab": {
          "base_uri": "https://localhost:8080/"
        },
        "id": "fnUe4BcHbaaB",
        "outputId": "eb7d12a7-19c0-4cce-9bc4-7f12b3d85ce8"
      },
      "execution_count": null,
      "outputs": [
        {
          "output_type": "stream",
          "name": "stdout",
          "text": [
            "              precision    recall  f1-score   support\n",
            "\n",
            "           1       0.84      0.80      0.82        61\n",
            "           2       0.81      0.85      0.83        59\n",
            "\n",
            "    accuracy                           0.82       120\n",
            "   macro avg       0.83      0.83      0.82       120\n",
            "weighted avg       0.83      0.82      0.82       120\n",
            "\n"
          ]
        }
      ]
    },
    {
      "cell_type": "markdown",
      "source": [
        "# Un párrafo final que explique con sus propias palabras qué tan bueno fue el modelo, que dicen los resultados de las métricas diagnósticas y que encontró interesante en los clasificadores\n",
        "\n",
        "*   Es interesante observar que el modelo Naive Bayes obtuvo un resultado de 0.82 en las métricas diagnósticas, esto indica que ha demostrado una buena capacidad para clasificar los datos de entrada. Este resultado es una medida del rendimiento del modelo y sugiere que puede ser utilizado de manera efectiva en una variedad de situaciones de clasificación.Me llamó la atención la capacidad del modelo Naive Bayes para hacer predicciones precisas utilizando una metodología simple y eficiente.\n",
        "*   A partir de los resultados obtenidos en las métricas diagnósticas del modelo K-nearest neighbors, se puede decir que su capacidad para clasificar los datos de entrada no es precisa, ya que dió un resultado de 0.5. Este resultado sugiere que el modelo tiene una probabilidad del 50% de clasificar correctamente las entradas, lo que es menos que satisfactorio. Aunque K-nearest neighbors es una técnica de clasificación popular y simple de implementar, en este caso no demostró tener la capacidad suficiente para clasificar de manera efectiva los datos de entrada\n",
        "\n",
        "* **COMPARACIÓN**\n",
        "La principal diferencia entre los dos modelos es su capacidad para clasificar los datos de entrada. Mientras que el modelo Naive Bayes logró un resultado de 0.82 en las métricas diagnósticas, lo que indica una buena capacidad de clasificación, el modelo K-nearest neighbors obtuvo un resultado de 0.5, lo que sugiere que su capacidad de clasificación no es muy precisa. Además, mientras que Naive Bayes demostró una capacidad efectiva de predicción utilizando una metodología simple, K-nearest neighbors no demostró tener la capacidad suficiente para clasificar de manera efectiva los datos de entrada en este caso. En general, los resultados sugieren que Naive Bayes es una opción más efectiva para la clasificación de datos en comparación con K-nearest neighbors."
      ],
      "metadata": {
        "id": "Ll9dHOcgbzTy"
      }
    }
  ]
}