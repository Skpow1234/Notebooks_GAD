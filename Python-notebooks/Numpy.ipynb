{
  "cells": [
    {
      "cell_type": "markdown",
      "metadata": {
        "id": "wbQ5NKFGqOxl"
      },
      "source": [
        " ### Topic Covered: Numpy"
      ]
    },
    {
      "cell_type": "code",
      "execution_count": 1,
      "metadata": {
        "id": "2usYGezwtnCZ"
      },
      "outputs": [],
      "source": [
        "#Install numpy and scipy if you don't have it already installed.\n",
        "#importing necessary packages\n",
        "import numpy as np\n",
        "from numpy import linalg as LA\n",
        "from scipy import stats"
      ]
    },
    {
      "cell_type": "markdown",
      "metadata": {
        "id": "FyVNCNPKqOxq"
      },
      "source": [
        "### Practical Questions\n",
        "1. Write a python code for addition, subtraction and multiplication of two 4x4 matrices"
      ]
    },
    {
      "cell_type": "code",
      "execution_count": 2,
      "metadata": {
        "colab": {
          "base_uri": "https://localhost:8080/"
        },
        "id": "wQx_8k3rqOxq",
        "outputId": "236a3f8c-c975-4c4b-e451-5aa2babf470a"
      },
      "outputs": [
        {
          "name": "stdout",
          "output_type": "stream",
          "text": [
            "Multiplication\n",
            " [[ 33  40  47  58]\n",
            " [ 81 104 127 162]\n",
            " [129 168 207 266]\n",
            " [177 232 287 370]]\n",
            "Addition\n",
            " [[ 3  6  9 12]\n",
            " [ 6  9 12 17]\n",
            " [16 16 16 16]\n",
            " [15 17 19 21]]\n",
            "Subtraction\n",
            " [[-1 -2 -3 -4]\n",
            " [ 4  3  2 -1]\n",
            " [ 2  4  6  8]\n",
            " [11 11 11 11]]\n"
          ]
        }
      ],
      "source": [
        "#defining matrix\n",
        "m = np.matrix([[1,2,3,4], [5,6,7,8],[9,10,11,12],[13,14,15,16]])\n",
        "n = np.matrix([[2,4,6,8], [1,3,5,9],[7,6,5,4],[2,3,4,5]])\n",
        "\n",
        "#operations\n",
        "print(\"Multiplication\\n\",m*n)\n",
        "print(\"Addition\\n\",m+n)\n",
        "print(\"Subtraction\\n\",m-n)\n"
      ]
    },
    {
      "cell_type": "markdown",
      "metadata": {
        "id": "iwUM_TjIqOxr"
      },
      "source": [
        "2. Create a 5 by 2 integer array from a range between 150 to 250 such that the difference between each element is 10. Print the same."
      ]
    },
    {
      "cell_type": "code",
      "execution_count": 3,
      "metadata": {
        "colab": {
          "base_uri": "https://localhost:8080/"
        },
        "id": "ZLSIS83yqOxr",
        "outputId": "63350a29-f4c8-4c47-f9ab-070bd7a5c48f"
      },
      "outputs": [
        {
          "name": "stdout",
          "output_type": "stream",
          "text": [
            "[[150 160]\n",
            " [170 180]\n",
            " [190 200]\n",
            " [210 220]\n",
            " [230 240]]\n"
          ]
        }
      ],
      "source": [
        "#generating array using reshape\n",
        "arr = np.arange(150, 250, 10)\n",
        "arr = arr.reshape(5,2)\n",
        "print (arr)"
      ]
    },
    {
      "cell_type": "markdown",
      "metadata": {
        "id": "vT-QXF8TqOxr"
      },
      "source": [
        "3. Consider two matrices\n",
        "M1=([[2,3,4], [6,5,2], [6,7,3]])\n",
        "M2=([[1,4,2], [4,3,6],[5,9,8]]) Calculate manually as well as develop the python program for the following:\n",
        "(1) matrix multiplication (dot product) (2) inner product (3) cross product (4) outer product"
      ]
    },
    {
      "cell_type": "code",
      "execution_count": 4,
      "metadata": {
        "colab": {
          "base_uri": "https://localhost:8080/"
        },
        "id": "r6gg7B9JqOxs",
        "outputId": "dfaa1000-1471-45e3-a9c2-b0fde953db8b"
      },
      "outputs": [
        {
          "name": "stdout",
          "output_type": "stream",
          "text": [
            "[[2 3 4]\n",
            " [6 5 2]\n",
            " [6 7 3]] \n",
            "\n",
            " [[1 4 2]\n",
            " [4 3 6]\n",
            " [5 9 8]]\n"
          ]
        }
      ],
      "source": [
        "m = np.matrix([[2,3,4], [6,5,2], [6,7,3]])\n",
        "n = np.matrix([[1,4,2], [4,3,6],[5,9,8]])\n",
        "print(m,\"\\n\\n\",n)"
      ]
    },
    {
      "cell_type": "code",
      "execution_count": 5,
      "metadata": {
        "colab": {
          "base_uri": "https://localhost:8080/"
        },
        "id": "g7p5erf7qOxs",
        "outputId": "6bb227fe-14aa-4b33-f83b-a9cedfb11c1a"
      },
      "outputs": [
        {
          "name": "stdout",
          "output_type": "stream",
          "text": [
            "[[34 53 54]\n",
            " [36 57 58]\n",
            " [49 72 78]]\n"
          ]
        }
      ],
      "source": [
        "#multiplication(dot product)\n",
        "result = np.dot(m, n)\n",
        "print(result)"
      ]
    },
    {
      "cell_type": "code",
      "execution_count": 6,
      "metadata": {
        "colab": {
          "base_uri": "https://localhost:8080/"
        },
        "id": "xEB8JZUGqOxt",
        "outputId": "aaef7220-8092-41db-8398-48598d2bd85d"
      },
      "outputs": [
        {
          "data": {
            "text/plain": [
              "matrix([[ 22,  41,  69],\n",
              "        [ 30,  51,  91],\n",
              "        [ 40,  63, 117]])"
            ]
          },
          "execution_count": 6,
          "metadata": {},
          "output_type": "execute_result"
        }
      ],
      "source": [
        "#multiplication(Inner product)\n",
        "np.inner(m,n)\n"
      ]
    },
    {
      "cell_type": "code",
      "execution_count": 7,
      "metadata": {
        "colab": {
          "base_uri": "https://localhost:8080/"
        },
        "id": "QgGKHXk5qOxt",
        "outputId": "e780e427-b898-457e-e511-ec7c6c4f6708"
      },
      "outputs": [
        {
          "data": {
            "text/plain": [
              "array([[-10,   0,   5],\n",
              "       [ 24, -28,  -2],\n",
              "       [ 29, -33,  19]])"
            ]
          },
          "execution_count": 7,
          "metadata": {},
          "output_type": "execute_result"
        }
      ],
      "source": [
        "#multiplication(cross product)\n",
        "np.cross(m,n)"
      ]
    },
    {
      "cell_type": "code",
      "execution_count": 8,
      "metadata": {},
      "outputs": [
        {
          "data": {
            "text/plain": [
              "array([[ 2,  8,  4,  8,  6, 12, 10, 18, 16],\n",
              "       [ 3, 12,  6, 12,  9, 18, 15, 27, 24],\n",
              "       [ 4, 16,  8, 16, 12, 24, 20, 36, 32],\n",
              "       [ 6, 24, 12, 24, 18, 36, 30, 54, 48],\n",
              "       [ 5, 20, 10, 20, 15, 30, 25, 45, 40],\n",
              "       [ 2,  8,  4,  8,  6, 12, 10, 18, 16],\n",
              "       [ 6, 24, 12, 24, 18, 36, 30, 54, 48],\n",
              "       [ 7, 28, 14, 28, 21, 42, 35, 63, 56],\n",
              "       [ 3, 12,  6, 12,  9, 18, 15, 27, 24]])"
            ]
          },
          "execution_count": 8,
          "metadata": {},
          "output_type": "execute_result"
        }
      ],
      "source": [
        "np.outer(m,n)"
      ]
    },
    {
      "cell_type": "markdown",
      "metadata": {
        "id": "TfQ70oY1qOxu"
      },
      "source": [
        "4. Randomly generate the marks of the 85 students in the range of 42 to 93. Write a NumPy \n",
        "program to compute the 84 percentile for all elements in a given array. (Hint: use\n",
        "np.random. randint(start,stop,no_of_items) for list\n",
        "generation) (Hint: Use np.percentile"
      ]
    },
    {
      "cell_type": "code",
      "execution_count": 9,
      "metadata": {
        "colab": {
          "base_uri": "https://localhost:8080/"
        },
        "id": "vxEXEs8qqOxu",
        "outputId": "be28d3e7-aa78-41ff-a901-643f628c917d"
      },
      "outputs": [
        {
          "name": "stdout",
          "output_type": "stream",
          "text": [
            "[86 86 87 62 57 64 61 46 92 56 80 92 75 56 43 85 58 69 63 49 72 85 56 68\n",
            " 42 88 46 42 78 51 88 73 75 82 74 50 85 60 63 64 86 66 43 55 56 81 64 92\n",
            " 49 89 69 47 91 85 71 78 87 70 71 89 48 81 87 50 86 81 59 63 64 65 55 49\n",
            " 81 84 50 85 53 87 81 68 84 57 89 60 55] \n",
            "\n",
            "84th percentile: 86.0\n"
          ]
        }
      ],
      "source": [
        "#84 percentile for all elements\n",
        "\n",
        "arr=np.random.randint(42,93,85)\n",
        "print(arr,'\\n')\n",
        "\n",
        "per=np.percentile(arr,84)\n",
        "print(\"84th percentile:\",per)\n",
        "\n",
        "\n"
      ]
    },
    {
      "cell_type": "markdown",
      "metadata": {
        "id": "ajrQXvUrqOxw"
      },
      "source": [
        "5. Write a NumPy program to compute the eigenvalues and right eigenvectors of a given square \n",
        "array.\n",
        "Arr =([[1,4,8], [8,9,2],[9,7,8]])\n",
        "HINT: Use linear algebra package under numpy. Add these statements i.e. for eigenvalues,\n",
        "import numpy as np\n",
        "from numpy import linalg\n",
        "np.linalg.eig(a)\n"
      ]
    },
    {
      "cell_type": "code",
      "execution_count": 10,
      "metadata": {
        "colab": {
          "base_uri": "https://localhost:8080/"
        },
        "id": "tQw6CyWdqOxw",
        "outputId": "562c1d96-b0b2-4843-e8f1-537a4363b0b5"
      },
      "outputs": [
        {
          "name": "stdout",
          "output_type": "stream",
          "text": [
            "Eigenvalues\n",
            " [18.61713304 -4.50451282  3.88737977]\n",
            "Eigenvectors\n",
            " [[-0.44798294 -0.82768979  0.36471887]\n",
            " [-0.52339057  0.43844259 -0.77347804]\n",
            " [-0.7248266   0.35028233  0.51837426]]\n"
          ]
        }
      ],
      "source": [
        "#eigenvalues and right eigenvectors\n",
        "Arr =([[1,4,8], [8,9,2],[9,7,8]])\n",
        "w, v =np.linalg.eig(Arr)\n",
        "print( \"Eigenvalues\\n\",w)\n",
        "print( \"Eigenvectors\\n\",v)\n"
      ]
    },
    {
      "cell_type": "markdown",
      "metadata": {
        "id": "_fZKbxhkqXxw"
      },
      "source": [
        "## Additional questions:\n",
        "1. Compute the determinant and inverse of a given square array manually as well as\n",
        "programmatically using python. Arr = [[1,4,8], [8,9,2],[9,7,8]]\n"
      ]
    },
    {
      "cell_type": "code",
      "execution_count": 11,
      "metadata": {
        "colab": {
          "base_uri": "https://localhost:8080/"
        },
        "id": "r2WRwX8SqZzZ",
        "outputId": "4f1bedc4-c471-43cb-f970-c38602586323"
      },
      "outputs": [
        {
          "name": "stdout",
          "output_type": "stream",
          "text": [
            "Determinant:\n",
            "-326.0\n"
          ]
        }
      ],
      "source": [
        "#determinant\n",
        "a = [[1,4,8], [8,9,2],[9,7,8]]\n",
        "print(\"Determinant:\")\n",
        "print(np.linalg.det(a))"
      ]
    },
    {
      "cell_type": "code",
      "execution_count": 12,
      "metadata": {
        "colab": {
          "base_uri": "https://localhost:8080/"
        },
        "id": "6yW2EX6Bq3UD",
        "outputId": "3ceb0cbf-70cd-472d-ffef-1e4f8a46b5db"
      },
      "outputs": [
        {
          "name": "stdout",
          "output_type": "stream",
          "text": [
            "Inverse:\n",
            "[[-0.17791411 -0.07361963  0.19631902]\n",
            " [ 0.14110429  0.19631902 -0.19018405]\n",
            " [ 0.07668712 -0.08895706  0.07055215]]\n"
          ]
        }
      ],
      "source": [
        "#inverse\n",
        "print(\"Inverse:\")\n",
        "print(np.linalg.inv(a))\n"
      ]
    },
    {
      "cell_type": "markdown",
      "metadata": {
        "id": "oYDvQOpqt_4K"
      },
      "source": [
        "2. Write a NumPy program to compute the following for the given array. Mean, median, mode,\n",
        "variance, and standard deviation. "
      ]
    },
    {
      "cell_type": "code",
      "execution_count": 13,
      "metadata": {
        "colab": {
          "base_uri": "https://localhost:8080/"
        },
        "id": "Yj2DMKuWrB6w",
        "outputId": "575312e9-0560-4211-80cd-637b505dcf6b"
      },
      "outputs": [
        {
          "name": "stdout",
          "output_type": "stream",
          "text": [
            "6.222222222222222\n"
          ]
        }
      ],
      "source": [
        "#mean\n",
        "print(np.mean(a))"
      ]
    },
    {
      "cell_type": "code",
      "execution_count": 14,
      "metadata": {
        "colab": {
          "base_uri": "https://localhost:8080/"
        },
        "id": "gEnnkvP0rMAQ",
        "outputId": "17e9b982-6fe6-41e4-b1fa-77b21f111112"
      },
      "outputs": [
        {
          "name": "stdout",
          "output_type": "stream",
          "text": [
            "8.0\n"
          ]
        }
      ],
      "source": [
        "#median\n",
        "print(np.median(a))"
      ]
    },
    {
      "cell_type": "code",
      "execution_count": 15,
      "metadata": {
        "colab": {
          "base_uri": "https://localhost:8080/"
        },
        "id": "eWSsdtzorPmY",
        "outputId": "1262ba19-80e8-4240-84e8-eee2aab6d8e5"
      },
      "outputs": [
        {
          "name": "stdout",
          "output_type": "stream",
          "text": [
            "ModeResult(mode=array([8]), count=array([3]))\n"
          ]
        }
      ],
      "source": [
        "#mode\n",
        "a= np.array([[1,4,8], [8,9,2],[9,7,8]])\n",
        "print(stats.mode(a,axis=None))"
      ]
    },
    {
      "cell_type": "code",
      "execution_count": 16,
      "metadata": {
        "colab": {
          "base_uri": "https://localhost:8080/"
        },
        "id": "4_Da9srisvl7",
        "outputId": "20bce87a-4a73-47dd-93e9-ddc0bb3b7622"
      },
      "outputs": [
        {
          "name": "stdout",
          "output_type": "stream",
          "text": [
            "2.8974232912011773\n"
          ]
        }
      ],
      "source": [
        "#Standard deviation\n",
        "print(np.std(a))"
      ]
    },
    {
      "cell_type": "code",
      "execution_count": 17,
      "metadata": {
        "colab": {
          "base_uri": "https://localhost:8080/"
        },
        "id": "3rwJQCNOtD46",
        "outputId": "15480a4c-00e2-4710-dd16-aa8645d9af9d"
      },
      "outputs": [
        {
          "name": "stdout",
          "output_type": "stream",
          "text": [
            "8.395061728395062\n"
          ]
        }
      ],
      "source": [
        "#variance\n",
        "print(np.var(a))"
      ]
    },
    {
      "cell_type": "markdown",
      "metadata": {
        "id": "zWr_9gHPy-NE"
      },
      "source": [
        "3. Write a NumPy program to compute the covariance matrix of two given arrays"
      ]
    },
    {
      "cell_type": "code",
      "execution_count": 18,
      "metadata": {
        "colab": {
          "base_uri": "https://localhost:8080/"
        },
        "id": "E8FYsCu1y5Ej",
        "outputId": "d1cb095f-85fe-4f77-b180-2144bd9bd1de"
      },
      "outputs": [
        {
          "name": "stdout",
          "output_type": "stream",
          "text": [
            "Covariance: \n",
            " [[ 12.33333333 -11.16666667  -1.5          9.           8.66666667\n",
            "   10.5       ]\n",
            " [-11.16666667  14.33333333  -0.5         -9.5         -6.83333333\n",
            "   -9.        ]\n",
            " [ -1.5         -0.5          1.          -0.5         -1.5\n",
            "   -1.5       ]\n",
            " [  9.          -9.5         -0.5          7.           6.\n",
            "    7.5       ]\n",
            " [  8.66666667  -6.83333333  -1.5          6.           6.33333333\n",
            "    7.5       ]\n",
            " [ 10.5         -9.          -1.5          7.5          7.5\n",
            "    9.        ]]\n"
          ]
        }
      ],
      "source": [
        "#covariance\n",
        "a1= np.array([[1,4,8], [8,9,2],[9,7,8]])\n",
        "a2= np.array([[1,2,6], [2,5,7],[3,6,9]])\n",
        "print(\"Covariance: \\n\",np.cov(a1,a2))"
      ]
    },
    {
      "cell_type": "markdown",
      "metadata": {
        "id": "nlFk9lWo1KM9"
      },
      "source": [
        "4. Write a Python program to count number of occurrences of each value in a given array of\n",
        "non-negative integers. USE bincount"
      ]
    },
    {
      "cell_type": "code",
      "execution_count": 19,
      "metadata": {
        "colab": {
          "base_uri": "https://localhost:8080/"
        },
        "id": "bn7VHbhZ0sDs",
        "outputId": "84bc5839-6ff5-4826-e999-c71c5ceabd0e"
      },
      "outputs": [
        {
          "name": "stdout",
          "output_type": "stream",
          "text": [
            "[1 3 2 0 1 0 1 1 0 0 0 0 0 0 0 0 0 0 0 0 0 0 0 0 0 0 0 0 0 0 0 0 0 0 0 0 0\n",
            " 0 0 0 0 0 0 0 0 0 0 0 0 0 0 0 0 0 0 0 0 0 0 0 0 0 0 0 0 0 0 0 0 0 0 0 0 0\n",
            " 0 0 0 0 0 0 0 0 0 0 0 0 0 0 0 0 0 0 0 0 0 0 0 0 0 0 0 0 0 0 0 0 0 0 0 0 0\n",
            " 0 1]\n"
          ]
        }
      ],
      "source": [
        "a = [0, 1, 6, 1, 4, 1, 2, 2, 7,112]\n",
        "print(np.bincount(a))"
      ]
    },
    {
      "cell_type": "markdown",
      "metadata": {
        "id": "0n6hErQt1OrI"
      },
      "source": [
        "5. Write a NumPy program to compute the sum of the diagonal element of a given array. USE\n",
        "trace."
      ]
    },
    {
      "cell_type": "code",
      "execution_count": 20,
      "metadata": {
        "colab": {
          "base_uri": "https://localhost:8080/"
        },
        "id": "k0VyX1Jo1Htc",
        "outputId": "439d5618-4a29-4193-d553-53358b0a3595"
      },
      "outputs": [
        {
          "name": "stdout",
          "output_type": "stream",
          "text": [
            "18\n"
          ]
        }
      ],
      "source": [
        "#trace\n",
        "a = [[1,4,8], [8,9,2],[9,7,8]]\n",
        "print(np.trace(a))"
      ]
    },
    {
      "cell_type": "markdown",
      "metadata": {},
      "source": [
        "6. You are given a space separated list of nine integers. Your task is to convert this list into\n",
        "a 3x3 NumPy array.\n",
        "Eg: input: 1 2 3 4 5 6 7 8 9\n",
        "Output:\n",
        "[ [1 2 3]\n",
        "[4 5 6]\n",
        "[7 8 9] ]"
      ]
    },
    {
      "cell_type": "code",
      "execution_count": 21,
      "metadata": {},
      "outputs": [
        {
          "name": "stdout",
          "output_type": "stream",
          "text": [
            "[list([5]) list([]) list([])]\n"
          ]
        },
        {
          "name": "stderr",
          "output_type": "stream",
          "text": [
            "C:\\Users\\HP\\AppData\\Local\\Temp\\ipykernel_16856\\200069143.py:7: VisibleDeprecationWarning: Creating an ndarray from ragged nested sequences (which is a list-or-tuple of lists-or-tuples-or ndarrays with different lengths or shapes) is deprecated. If you meant to do this, you must specify 'dtype=object' when creating the ndarray.\n",
            "  return np.array(s)\n"
          ]
        }
      ],
      "source": [
        "def listtomat(r,c):\n",
        " t=list(map(int,input().split(' ')))\n",
        " s=list()\n",
        " for i in range(r):\n",
        "  s.append(t[:c])\n",
        "  t=t[c:]\n",
        " return np.array(s)\n",
        "\n",
        "mat=listtomat(3,3)\n",
        "print(mat)"
      ]
    },
    {
      "cell_type": "markdown",
      "metadata": {},
      "source": [
        "Additional Codes"
      ]
    },
    {
      "cell_type": "code",
      "execution_count": 22,
      "metadata": {},
      "outputs": [
        {
          "name": "stdout",
          "output_type": "stream",
          "text": [
            "[1 2 3 4 5]\n",
            "<class 'numpy.ndarray'>\n"
          ]
        }
      ],
      "source": [
        "arr = np.array([1, 2, 3, 4, 5])\n",
        "\n",
        "print(arr)\n",
        "\n",
        "print(type(arr))"
      ]
    },
    {
      "cell_type": "code",
      "execution_count": 23,
      "metadata": {},
      "outputs": [
        {
          "name": "stdout",
          "output_type": "stream",
          "text": [
            "[[[1 2 3]\n",
            "  [4 5 6]]\n",
            "\n",
            " [[1 2 3]\n",
            "  [4 5 6]]]\n"
          ]
        }
      ],
      "source": [
        "arr = np.array([[[1, 2, 3], [4, 5, 6]], [[1, 2, 3], [4, 5, 6]]])\n",
        "\n",
        "print(arr)"
      ]
    },
    {
      "cell_type": "code",
      "execution_count": 24,
      "metadata": {},
      "outputs": [
        {
          "name": "stdout",
          "output_type": "stream",
          "text": [
            "[[[[[1 2 3 4]]]]]\n"
          ]
        }
      ],
      "source": [
        "arr = np.array([1, 2, 3, 4], ndmin=5)\n",
        "\n",
        "print(arr)"
      ]
    }
  ],
  "metadata": {
    "colab": {
      "collapsed_sections": [],
      "name": "Practical 1.ipynb",
      "provenance": []
    },
    "kernelspec": {
      "display_name": "Python 3.10.1 64-bit",
      "language": "python",
      "name": "python3"
    },
    "language_info": {
      "codemirror_mode": {
        "name": "ipython",
        "version": 3
      },
      "file_extension": ".py",
      "mimetype": "text/x-python",
      "name": "python",
      "nbconvert_exporter": "python",
      "pygments_lexer": "ipython3",
      "version": "3.10.1"
    },
    "orig_nbformat": 4,
    "vscode": {
      "interpreter": {
        "hash": "a9cff5a362bc38ef45d817ae74b1af54d6a076e3d773891282bce078b815ba34"
      }
    }
  },
  "nbformat": 4,
  "nbformat_minor": 0
}
