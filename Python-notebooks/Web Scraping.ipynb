{
 "cells": [
  {
   "cell_type": "markdown",
   "metadata": {},
   "source": [
    "# Web scraping\n",
    "Web scraping, also called web data mining or web harvesting, is the process of constructing an agent which can extract, parse, download and organize useful information from the web automatically. In other words, we can say that instead of manually saving the data from websites, the web scraping software will automatically load and extract data from multiple websites as per our requirement."
   ]
  },
  {
   "cell_type": "markdown",
   "metadata": {},
   "source": [
    "# Web Scraping Lib/Process\n",
    "request library: It is a Python library which is used to read the web page data from the URL of the corresponding page.\n",
    "\n",
    "BeautifulSoup: It is a class which is used to beautify the HTML code structure so that the user can read it to get an idea about HTML code syntax.\n",
    "\n",
    "The web scraping process can be divided into four major parts:\n",
    "\n",
    "Reading: HTML page read and upload\n",
    "\n",
    "Parsing: To beautify the HTML code in an understandable format\n",
    "\n",
    "Extraction: Extraction of data from the web page\n",
    "\n",
    "Transformation: Converting the information into the required format, e.g., CSV"
   ]
  },
  {
   "cell_type": "markdown",
   "metadata": {},
   "source": [
    "### Topic Covered: Web Scrapping & Beautiful Soup\n",
    "\n"
   ]
  },
  {
   "cell_type": "markdown",
   "metadata": {},
   "source": [
    "Suppose you want to buy a phone and want to compare the features and prices of the Samsung \n",
    "phones available on Flipkart and Amazon."
   ]
  },
  {
   "cell_type": "markdown",
   "metadata": {},
   "source": [
    "#### Example 1: Scraping Data from Flipkart"
   ]
  },
  {
   "cell_type": "markdown",
   "metadata": {},
   "source": [
    "In order to do that, let's apply the understanding of web scraping on the Flipkart website to fetch \n",
    "prices and technical specifications data from the web page. This Flipkart link\n",
    "<br>\n",
    "<a>https://www.flipkart.com/search?q=samsung+mobiles&sid=tyy%2C4io&as=on&as-show=on&otracker=AS_QueryStore_OrganicAutoSuggest_1_5_na_na_na&otracker1=AS_QueryStore_OrganicAutoSuggest_1_5_na_na_na&as-pos=1&as-type=RECENT&suggestionId=samsung+mobiles%7CMobiles&requestId=18944876-a6ef-44c0-ac67-d31d7b11a548&as-backfill=on</a>\n",
    "<br>\n",
    "contains information about some features of Samsung phones, including technical specifications, \n",
    "prices, discounts and rating, etc."
   ]
  },
  {
   "cell_type": "code",
   "execution_count": 1,
   "metadata": {},
   "outputs": [],
   "source": [
    "from urllib.request import urlopen as uReq\n",
    "from bs4 import BeautifulSoup as soup"
   ]
  },
  {
   "cell_type": "code",
   "execution_count": 2,
   "metadata": {},
   "outputs": [],
   "source": [
    "url=  \"https://www.flipkart.com/search?q=samsung+mobiles&sid=tyy%2C4io&as=on&as-show=on&otracker=AS_QueryStore_OrganicAutoSuggest_1_5_na_na_na&otracker1=AS_QueryStore_OrganicAutoSuggest_1_5_na_na_na&as-pos=1&as-type=RECENT&suggestionId=samsung+mobiles%7CMobiles&requestId=18944876-a6ef-44c0-ac67-d31d7b11a548&as-backfill=on\"\n",
    "client= uReq(url)\n",
    "page_html= client.read()\n",
    "client.close()"
   ]
  },
  {
   "cell_type": "code",
   "execution_count": 3,
   "metadata": {},
   "outputs": [
    {
     "data": {
      "text/plain": [
       "<http.client.HTTPResponse at 0x26489fd3fa0>"
      ]
     },
     "execution_count": 3,
     "metadata": {},
     "output_type": "execute_result"
    }
   ],
   "source": [
    "client"
   ]
  },
  {
   "cell_type": "code",
   "execution_count": 4,
   "metadata": {},
   "outputs": [],
   "source": [
    "page_soup= soup(page_html)"
   ]
  },
  {
   "cell_type": "code",
   "execution_count": 14,
   "metadata": {},
   "outputs": [],
   "source": [
    "# print(page_soup.prettify())"
   ]
  },
  {
   "cell_type": "code",
   "execution_count": 6,
   "metadata": {},
   "outputs": [],
   "source": [
    "containers= page_soup.findAll(\"div\", {\"class\": \"_13oc-S\"})"
   ]
  },
  {
   "cell_type": "code",
   "execution_count": 7,
   "metadata": {},
   "outputs": [
    {
     "name": "stdout",
     "output_type": "stream",
     "text": [
      "24\n"
     ]
    }
   ],
   "source": [
    "print(len(containers))"
   ]
  },
  {
   "cell_type": "code",
   "execution_count": 8,
   "metadata": {},
   "outputs": [],
   "source": [
    "import re\n",
    "filename= \"Samsung.csv\"\n",
    "f= open(filename, \"w\",encoding=\"UTF-8\")\n",
    "\n",
    "headers= \"Mobile_Name,Price,Ratings,Links,Technical_Specifications\\n\"\n",
    "f.write(headers)\n",
    "\n",
    "for container in containers:\n",
    "    name= container.findAll('div',{\"class\":\"_4rR01T\"})\n",
    "    Name= name[0].text\n",
    "    Name = re.sub(r\"[\\(\\)]\",'',Name)\n",
    "    Name=Name.replace(\",\",\"\")\n",
    "    link=container.findAll(\"a\")\n",
    "    Link=link[0].attrs['href']\n",
    "    price= container.findAll(\"div\", {\"class\": \"_30jeq3 _1_WHN1\"})\n",
    "    Price=price[0].text\n",
    "    Price=Price.replace(\",\",\"\")\n",
    "    Price = re.sub('[^A-Za-z0-9]+', '', Price)\n",
    "    rating=container.findAll(\"div\", {\"class\": \"_3LWZlK\"})\n",
    "    Ratings=rating[0].text\n",
    "    specification =container.findAll(\"ul\", {\"class\": \"_1xgFaf\"})\n",
    "    Specification=specification[0].text\n",
    "    f.write(Name + \",\"+ Price + \",\" + Ratings + \",\"+Link+\",\" + Specification+\"\\n\")\n",
    "\n",
    "  \n",
    "f.close()"
   ]
  },
  {
   "cell_type": "markdown",
   "metadata": {},
   "source": [
    "import pandas as pd\n",
    "df = pd.read_csv(\"Samsung.csv\", encoding=\"utf-8\")\n",
    "df"
   ]
  },
  {
   "cell_type": "markdown",
   "metadata": {},
   "source": [
    "Get the phone details with min and max price of the phone."
   ]
  },
  {
   "cell_type": "code",
   "execution_count": 10,
   "metadata": {},
   "outputs": [],
   "source": [
    "max=pd.DataFrame(df[df.Price == df.Price.max()])\n",
    "min=pd.DataFrame(df[df.Price == df.Price.min()])\n"
   ]
  },
  {
   "cell_type": "code",
   "execution_count": 11,
   "metadata": {},
   "outputs": [
    {
     "data": {
      "text/html": [
       "<div>\n",
       "<style scoped>\n",
       "    .dataframe tbody tr th:only-of-type {\n",
       "        vertical-align: middle;\n",
       "    }\n",
       "\n",
       "    .dataframe tbody tr th {\n",
       "        vertical-align: top;\n",
       "    }\n",
       "\n",
       "    .dataframe thead th {\n",
       "        text-align: right;\n",
       "    }\n",
       "</style>\n",
       "<table border=\"1\" class=\"dataframe\">\n",
       "  <thead>\n",
       "    <tr style=\"text-align: right;\">\n",
       "      <th></th>\n",
       "      <th>Mobile_Name</th>\n",
       "      <th>Price</th>\n",
       "      <th>Ratings</th>\n",
       "      <th>Links</th>\n",
       "      <th>Technical_Specifications</th>\n",
       "    </tr>\n",
       "  </thead>\n",
       "  <tbody>\n",
       "    <tr>\n",
       "      <th>20</th>\n",
       "      <td>SAMSUNG Galaxy M42 Prism Dot Gray 128 GB</td>\n",
       "      <td>21999</td>\n",
       "      <td>4.3</td>\n",
       "      <td>/samsung-galaxy-m42-prism-dot-gray-128-gb/p/it...</td>\n",
       "      <td>8 GB RAM | 128 GB ROM | Expandable Upto 1 TB16...</td>\n",
       "    </tr>\n",
       "  </tbody>\n",
       "</table>\n",
       "</div>"
      ],
      "text/plain": [
       "                                 Mobile_Name  Price  Ratings  \\\n",
       "20  SAMSUNG Galaxy M42 Prism Dot Gray 128 GB  21999      4.3   \n",
       "\n",
       "                                                Links  \\\n",
       "20  /samsung-galaxy-m42-prism-dot-gray-128-gb/p/it...   \n",
       "\n",
       "                             Technical_Specifications  \n",
       "20  8 GB RAM | 128 GB ROM | Expandable Upto 1 TB16...  "
      ]
     },
     "execution_count": 11,
     "metadata": {},
     "output_type": "execute_result"
    }
   ],
   "source": [
    "max"
   ]
  },
  {
   "cell_type": "code",
   "execution_count": 12,
   "metadata": {},
   "outputs": [
    {
     "data": {
      "text/html": [
       "<div>\n",
       "<style scoped>\n",
       "    .dataframe tbody tr th:only-of-type {\n",
       "        vertical-align: middle;\n",
       "    }\n",
       "\n",
       "    .dataframe tbody tr th {\n",
       "        vertical-align: top;\n",
       "    }\n",
       "\n",
       "    .dataframe thead th {\n",
       "        text-align: right;\n",
       "    }\n",
       "</style>\n",
       "<table border=\"1\" class=\"dataframe\">\n",
       "  <thead>\n",
       "    <tr style=\"text-align: right;\">\n",
       "      <th></th>\n",
       "      <th>Mobile_Name</th>\n",
       "      <th>Price</th>\n",
       "      <th>Ratings</th>\n",
       "      <th>Links</th>\n",
       "      <th>Technical_Specifications</th>\n",
       "    </tr>\n",
       "  </thead>\n",
       "  <tbody>\n",
       "    <tr>\n",
       "      <th>13</th>\n",
       "      <td>SAMSUNG Guru Music 2 SM-B315E</td>\n",
       "      <td>1990</td>\n",
       "      <td>4.2</td>\n",
       "      <td>/samsung-guru-music-2-sm-b315e/p/itmf050063b51...</td>\n",
       "      <td>Expandable Upto 16 GB5.08 cm (2 inch) QVGA Dis...</td>\n",
       "    </tr>\n",
       "  </tbody>\n",
       "</table>\n",
       "</div>"
      ],
      "text/plain": [
       "                      Mobile_Name  Price  Ratings  \\\n",
       "13  SAMSUNG Guru Music 2 SM-B315E   1990      4.2   \n",
       "\n",
       "                                                Links  \\\n",
       "13  /samsung-guru-music-2-sm-b315e/p/itmf050063b51...   \n",
       "\n",
       "                             Technical_Specifications  \n",
       "13  Expandable Upto 16 GB5.08 cm (2 inch) QVGA Dis...  "
      ]
     },
     "execution_count": 12,
     "metadata": {},
     "output_type": "execute_result"
    }
   ],
   "source": [
    "min"
   ]
  },
  {
   "cell_type": "markdown",
   "metadata": {},
   "source": [
    "### Example 2\n",
    "In order to do that, let's apply the understanding of web scraping on the Amazon website to fetch \n",
    "prices and technical specifications data from the web page. This Amazon link\n",
    "<a>\n",
    "https://www.amazon.in/s?k=samsung&rh=n%3A1389401031&ref=nb_sb_noss </a>\n",
    "contains information about some features of Samsung phones, including technical specifications, \n",
    "prices, discounts and rating, etc.\n"
   ]
  },
  {
   "cell_type": "code",
   "execution_count": 13,
   "metadata": {},
   "outputs": [
    {
     "ename": "HTTPError",
     "evalue": "HTTP Error 503: Service Unavailable",
     "output_type": "error",
     "traceback": [
      "\u001b[1;31m---------------------------------------------------------------------------\u001b[0m",
      "\u001b[1;31mHTTPError\u001b[0m                                 Traceback (most recent call last)",
      "\u001b[1;32md:\\Desktop\\Git\\Python-notebooks\\Web Scraping.ipynb Cell 21'\u001b[0m in \u001b[0;36m<cell line: 2>\u001b[1;34m()\u001b[0m\n\u001b[0;32m      <a href='vscode-notebook-cell:/d%3A/Desktop/Git/Python-notebooks/Web%20Scraping.ipynb#ch0000020?line=0'>1</a>\u001b[0m url1\u001b[39m=\u001b[39m  \u001b[39m\"\u001b[39m\u001b[39mhttps://www.amazon.in/s?k=samsung&rh=n\u001b[39m\u001b[39m%\u001b[39m\u001b[39m3A1389401031&ref=nb_sb_noss\u001b[39m\u001b[39m\"\u001b[39m\n\u001b[1;32m----> <a href='vscode-notebook-cell:/d%3A/Desktop/Git/Python-notebooks/Web%20Scraping.ipynb#ch0000020?line=1'>2</a>\u001b[0m client1\u001b[39m=\u001b[39m uReq(url1)\n\u001b[0;32m      <a href='vscode-notebook-cell:/d%3A/Desktop/Git/Python-notebooks/Web%20Scraping.ipynb#ch0000020?line=2'>3</a>\u001b[0m page_html1\u001b[39m=\u001b[39m client1\u001b[39m.\u001b[39mread()\n\u001b[0;32m      <a href='vscode-notebook-cell:/d%3A/Desktop/Git/Python-notebooks/Web%20Scraping.ipynb#ch0000020?line=3'>4</a>\u001b[0m client1\u001b[39m.\u001b[39mclose()\n",
      "File \u001b[1;32mc:\\Users\\HP\\AppData\\Local\\Programs\\Python\\Python310\\lib\\urllib\\request.py:216\u001b[0m, in \u001b[0;36murlopen\u001b[1;34m(url, data, timeout, cafile, capath, cadefault, context)\u001b[0m\n\u001b[0;32m    214\u001b[0m \u001b[39melse\u001b[39;00m:\n\u001b[0;32m    215\u001b[0m     opener \u001b[39m=\u001b[39m _opener\n\u001b[1;32m--> 216\u001b[0m \u001b[39mreturn\u001b[39;00m opener\u001b[39m.\u001b[39;49mopen(url, data, timeout)\n",
      "File \u001b[1;32mc:\\Users\\HP\\AppData\\Local\\Programs\\Python\\Python310\\lib\\urllib\\request.py:525\u001b[0m, in \u001b[0;36mOpenerDirector.open\u001b[1;34m(self, fullurl, data, timeout)\u001b[0m\n\u001b[0;32m    523\u001b[0m \u001b[39mfor\u001b[39;00m processor \u001b[39min\u001b[39;00m \u001b[39mself\u001b[39m\u001b[39m.\u001b[39mprocess_response\u001b[39m.\u001b[39mget(protocol, []):\n\u001b[0;32m    524\u001b[0m     meth \u001b[39m=\u001b[39m \u001b[39mgetattr\u001b[39m(processor, meth_name)\n\u001b[1;32m--> 525\u001b[0m     response \u001b[39m=\u001b[39m meth(req, response)\n\u001b[0;32m    527\u001b[0m \u001b[39mreturn\u001b[39;00m response\n",
      "File \u001b[1;32mc:\\Users\\HP\\AppData\\Local\\Programs\\Python\\Python310\\lib\\urllib\\request.py:634\u001b[0m, in \u001b[0;36mHTTPErrorProcessor.http_response\u001b[1;34m(self, request, response)\u001b[0m\n\u001b[0;32m    631\u001b[0m \u001b[39m# According to RFC 2616, \"2xx\" code indicates that the client's\u001b[39;00m\n\u001b[0;32m    632\u001b[0m \u001b[39m# request was successfully received, understood, and accepted.\u001b[39;00m\n\u001b[0;32m    633\u001b[0m \u001b[39mif\u001b[39;00m \u001b[39mnot\u001b[39;00m (\u001b[39m200\u001b[39m \u001b[39m<\u001b[39m\u001b[39m=\u001b[39m code \u001b[39m<\u001b[39m \u001b[39m300\u001b[39m):\n\u001b[1;32m--> 634\u001b[0m     response \u001b[39m=\u001b[39m \u001b[39mself\u001b[39;49m\u001b[39m.\u001b[39;49mparent\u001b[39m.\u001b[39;49merror(\n\u001b[0;32m    635\u001b[0m         \u001b[39m'\u001b[39;49m\u001b[39mhttp\u001b[39;49m\u001b[39m'\u001b[39;49m, request, response, code, msg, hdrs)\n\u001b[0;32m    637\u001b[0m \u001b[39mreturn\u001b[39;00m response\n",
      "File \u001b[1;32mc:\\Users\\HP\\AppData\\Local\\Programs\\Python\\Python310\\lib\\urllib\\request.py:563\u001b[0m, in \u001b[0;36mOpenerDirector.error\u001b[1;34m(self, proto, *args)\u001b[0m\n\u001b[0;32m    561\u001b[0m \u001b[39mif\u001b[39;00m http_err:\n\u001b[0;32m    562\u001b[0m     args \u001b[39m=\u001b[39m (\u001b[39mdict\u001b[39m, \u001b[39m'\u001b[39m\u001b[39mdefault\u001b[39m\u001b[39m'\u001b[39m, \u001b[39m'\u001b[39m\u001b[39mhttp_error_default\u001b[39m\u001b[39m'\u001b[39m) \u001b[39m+\u001b[39m orig_args\n\u001b[1;32m--> 563\u001b[0m     \u001b[39mreturn\u001b[39;00m \u001b[39mself\u001b[39;49m\u001b[39m.\u001b[39;49m_call_chain(\u001b[39m*\u001b[39;49margs)\n",
      "File \u001b[1;32mc:\\Users\\HP\\AppData\\Local\\Programs\\Python\\Python310\\lib\\urllib\\request.py:496\u001b[0m, in \u001b[0;36mOpenerDirector._call_chain\u001b[1;34m(self, chain, kind, meth_name, *args)\u001b[0m\n\u001b[0;32m    494\u001b[0m \u001b[39mfor\u001b[39;00m handler \u001b[39min\u001b[39;00m handlers:\n\u001b[0;32m    495\u001b[0m     func \u001b[39m=\u001b[39m \u001b[39mgetattr\u001b[39m(handler, meth_name)\n\u001b[1;32m--> 496\u001b[0m     result \u001b[39m=\u001b[39m func(\u001b[39m*\u001b[39;49margs)\n\u001b[0;32m    497\u001b[0m     \u001b[39mif\u001b[39;00m result \u001b[39mis\u001b[39;00m \u001b[39mnot\u001b[39;00m \u001b[39mNone\u001b[39;00m:\n\u001b[0;32m    498\u001b[0m         \u001b[39mreturn\u001b[39;00m result\n",
      "File \u001b[1;32mc:\\Users\\HP\\AppData\\Local\\Programs\\Python\\Python310\\lib\\urllib\\request.py:643\u001b[0m, in \u001b[0;36mHTTPDefaultErrorHandler.http_error_default\u001b[1;34m(self, req, fp, code, msg, hdrs)\u001b[0m\n\u001b[0;32m    642\u001b[0m \u001b[39mdef\u001b[39;00m \u001b[39mhttp_error_default\u001b[39m(\u001b[39mself\u001b[39m, req, fp, code, msg, hdrs):\n\u001b[1;32m--> 643\u001b[0m     \u001b[39mraise\u001b[39;00m HTTPError(req\u001b[39m.\u001b[39mfull_url, code, msg, hdrs, fp)\n",
      "\u001b[1;31mHTTPError\u001b[0m: HTTP Error 503: Service Unavailable"
     ]
    }
   ],
   "source": [
    "url1=  \"https://www.amazon.in/s?k=samsung&rh=n%3A1389401031&ref=nb_sb_noss\"\n",
    "client1= uReq(url1)\n",
    "page_html1= client1.read()\n",
    "client1.close()\n"
   ]
  },
  {
   "cell_type": "code",
   "execution_count": null,
   "metadata": {},
   "outputs": [
    {
     "data": {
      "text/plain": [
       "<http.client.HTTPResponse at 0x2724f1d79d0>"
      ]
     },
     "execution_count": 14,
     "metadata": {},
     "output_type": "execute_result"
    }
   ],
   "source": [
    "client1"
   ]
  },
  {
   "cell_type": "code",
   "execution_count": null,
   "metadata": {},
   "outputs": [],
   "source": [
    "page= soup(page_html1)"
   ]
  },
  {
   "cell_type": "code",
   "execution_count": null,
   "metadata": {},
   "outputs": [],
   "source": [
    "box=page.find_all(\"div\",{\"class\":\"sg-col sg-col-4-of-12 sg-col-8-of-16 sg-col-12-of-20 s-list-col-right\"})"
   ]
  },
  {
   "cell_type": "code",
   "execution_count": null,
   "metadata": {},
   "outputs": [
    {
     "data": {
      "text/plain": [
       "24"
      ]
     },
     "execution_count": 17,
     "metadata": {},
     "output_type": "execute_result"
    }
   ],
   "source": [
    "len(box)"
   ]
  },
  {
   "cell_type": "code",
   "execution_count": null,
   "metadata": {},
   "outputs": [
    {
     "name": "stdout",
     "output_type": "stream",
     "text": [
      "Samsung Galaxy M12 (Blue4GB RAM 64GB Storage) 6000 mAh with 8nm Processor | True 48 MP Quad Camera | 90Hz Refresh Rate,10499,4.1 out of 5 stars,/Samsung-Galaxy-M12-Storage-Processor/dp/B08XGDN3TZ,(19% off)\n",
      "\n",
      "Samsung Galaxy M12 (Black4GB RAM 64GB Storage) 6000 mAh with 8nm Processor | True 48 MP Quad Camera | 90Hz Refresh Rate,10499,4.1 out of 5 stars,/Samsung-Galaxy-M12-Storage-Processor/dp/B08XJCMGL7,(19% off)\n",
      "\n",
      "Samsung Galaxy M32 (Light Blue 6GB RAM 128GB | FHD+ sAMOLED 90Hz Display | 6000mAh Battery | 64MP Quad Camera,13999,4.1 out of 5 stars,/Samsung-Galaxy-Storage-Months-Replacement/dp/B096VDR283,(26% off)\n",
      "\n",
      "Samsung Galaxy M32 (Black 4GB RAM 64GB | FHD+ sAMOLED 90Hz Display | 6000mAh Battery | 64MP Quad Camera,11999,4.1 out of 5 stars,/Samsung-Galaxy-Storage-Months-Replacement/dp/B096VDG9QV,(29% off)\n",
      "\n",
      "Samsung Galaxy S20 FE 5G (Cloud Navy 8GB RAM 128GB Storage) with No Cost EMI & Additional Exchange Offers,36990,4.4 out of 5 stars,/Samsung-Galaxy-Cloud-128GB-Storage/dp/B08VB57558,(51% off)\n",
      "\n",
      "Samsung Galaxy M32 5G (Sky Blue 8GB RAM 128GB Storage) | Dimensity 720 Processor | 5000mAh Battery| Knox Security,22999,4.1 out of 5 stars,/Samsung-Galaxy-Blue-128GB-Storage/dp/B09CGJFY5N,(12% off)\n",
      "\n",
      "Samsung Galaxy M12 (Blue6GB RAM 128GB Storage) 6 Months Free Screen Replacement for Prime,12499,4.1 out of 5 stars,/Samsung-Galaxy-M12-Storage-Replacement/dp/B08XJG8MQM,(14% off)\n",
      "\n",
      "Samsung Galaxy A13 Blue 4GB RAM 64GB Storage with No Cost EMI/Additional Exchange Offers (SM-A135FLBGINS),13999,3.7 out of 5 stars,/Samsung-Storage-Additional-Exchange-SM-A135FLBGINS/dp/B09VK3G99F,(24% off)\n",
      "\n",
      "Samsung Galaxy M32 (Black 6GB RAM 128GB | FHD+ sAMOLED 90Hz Display | 6000mAh Battery | 64MP Quad Camera,13999,4.1 out of 5 stars,/Samsung-Galaxy-Storage-Months-Replacement/dp/B096VD6RQG,(26% off)\n",
      "\n",
      "Samsung Galaxy M33 5G (Deep Ocean Blue 8GB 128GB Storage) | Travel Adapter to be Purchased Separately,19499,3.9 out of 5 stars,/Samsung-Storage-Adapter-Purchased-Separately/dp/B09TWH8YHM,(25% off)\n",
      "\n",
      "Samsung Galaxy A23 Blue 6GB RAM 128GB Storage with No Cost EMI/Additional Exchange Offers,18499,3.8 out of 5 stars,/Samsung-Galaxy-Storage-Additional-Exchange/dp/B09VK5D8KW,(23% off)\n",
      "\n",
      "Samsung Galaxy Buds Pro | 99% Noise Cancellation Wireless Charging (18) Hours Playtime | Black,7490,4.2 out of 5 stars,/Samsung-Galaxy-Ear-Buds-Black/dp/B08SKDXKZF,(58% off)\n",
      "\n",
      "Samsung Galaxy M32 (Light Blue 4GB RAM 64GB | FHD+ sAMOLED 90Hz Display | 6000mAh Battery | 64MP Quad Camera,11999,4.1 out of 5 stars,/Samsung-Galaxy-Storage-Months-Replacement/dp/B096VD213D,(29% off)\n",
      "\n",
      "Samsung Galaxy M33 5G (Deep Ocean Blue 6GB 128GB Storage) | Travel Adapter to be Purchased Separately,17999,3.9 out of 5 stars,/Samsung-Storage-Adapter-Purchased-Separately/dp/B09TWDYSWQ,(28% off)\n",
      "\n",
      "Samsung Galaxy M21 2021 Edition (Charcoal Black 4GB RAM 64GB Storage) | FHD+ sAMOLED | 6 Months Free Screen Replacement for Prime (SM-M215GZKDINS),12999,4.2 out of 5 stars,/Samsung-Charcoal-Storage-Replacement-SM-M215GZKDINS/dp/B098NFJXXL,(10% off)\n",
      "\n",
      "Samsung Guru 1215 (GT-E1215 Black),1494,3.9 out of 5 stars,/Samsung-Guru-1215-GT-E1215-Black/dp/B09MTVDZCL,(29% off)\n",
      "\n",
      "Samsung Galaxy A13 Blue 6GB RAM 128GB Storage with No Cost EMI/Additional Exchange Offers (SM-A135FLBJINS),16499,3.7 out of 5 stars,/Samsung-Storage-Additional-Exchange-SM-A135FLBJINS/dp/B09VKCRFP1,(17% off)\n",
      "\n",
      "Samsung Galaxy A23 Peach 8GB RAM 128GB Storage with No Cost EMI/Additional Exchange Offers,19999,3.8 out of 5 stars,/Samsung-Galaxy-Storage-Additional-Exchange/dp/B09VK8G4XZ,(18% off)\n",
      "\n",
      "Samsung Galaxy M53 5G (Mystique Green 6GB 128GB Storage) | Travel Adapter to be Purchased Separately,26499,3.8 out of 5 stars,/Samsung-Mystique-Storage-Purchased-Separately/dp/B09XJ48QPR,(20% off)\n",
      "\n",
      "Samsung Galaxy A13 Blue 4GB RAM 128GB Storage with No Cost EMI/Additional Exchange Offers (SM-A135FLBHINS),14999,3.7 out of 5 stars,/Samsung-Storage-Additional-Exchange-SM-A135FLBHINS/dp/B09VK67FJS,(25% off)\n",
      "\n",
      "Samsung EHS64 EHS64AVFWECINU Wired In Ear Earphones with Mic Hands-Free with Remote Note (White),419,4.2 out of 5 stars,/Samsung-Original-EHS64AVFWECINU-Stereo-Headset/dp/B01F25X6RQ,(16% off)\n",
      "\n",
      "Samsung Galaxy Watch4 Bluetooth(44mm Black Compatible with Android only),15146,4.2 out of 5 stars,/Samsung-Galaxy-Bluetooth-Compatible-Android/dp/B09DG9VNWB,(50% off)\n",
      "\n",
      "Samsung Guru Music 2 315 (GT-B315 Black) (SM-B315EZKDINS),1994,4.1 out of 5 stars,/Samsung-Guru-Music-GT-B315-Black/dp/B09MKT9ZYM,(20% off)\n",
      "\n",
      "Samsung Galaxy M33 5G (Mystique Green 6GB 128GB Storage) | Travel Adapter to be Purchased Separately,17999,3.9 out of 5 stars,/Samsung-Mystique-Storage-Purchased-Separately/dp/B09TWGDY4W,(28% off)\n",
      "\n"
     ]
    }
   ],
   "source": [
    "import re\n",
    "filename= \"Samsung2.csv\"\n",
    "f= open(filename, \"w\",encoding=\"UTF-8\")\n",
    "\n",
    "headers= \"Mobile_Name,Price,Ratings,Links,Discounts\\n\"\n",
    "f.write(headers)\n",
    "\n",
    "for phone in box:\n",
    "    name= phone.findAll(\"span\",{\"class\":\"a-size-medium a-color-base a-text-normal\"})\n",
    "    Name= name[0].text\n",
    "    Name=Name.replace(\",\",\"\")\n",
    "    link=phone.findAll(\"a\")\n",
    "    Link=link[0].attrs['href']\n",
    "    price= phone.findAll(\"span\", {\"class\": \"a-offscreen\"})\n",
    "    Price=price[0].text\n",
    "    Price = re.sub('[^A-Za-z0-9]+', '', Price)\n",
    "    rating=phone.findAll(\"span\", {\"class\": \"a-icon-alt\"})\n",
    "    Ratings=rating[0].text\n",
    "    discount =phone.findAll(\"span\", {\"class\": None})\n",
    "    Discount=discount[4].text\n",
    "    print(Name + \",\"+ Price + \",\" + Ratings + \",\"+Link+\",\" + Discount+\"\\n\")\n",
    "    f.write(Name + \",\"+ Price + \",\" + Ratings + \",\"+Link+\",\" + Discount+\"\\n\")\n",
    "    # print(Name + \",\" + Link + \",\"+ Price +\"\\n\")\n",
    "f.close()"
   ]
  },
  {
   "cell_type": "code",
   "execution_count": null,
   "metadata": {},
   "outputs": [
    {
     "data": {
      "text/html": [
       "<div>\n",
       "<style scoped>\n",
       "    .dataframe tbody tr th:only-of-type {\n",
       "        vertical-align: middle;\n",
       "    }\n",
       "\n",
       "    .dataframe tbody tr th {\n",
       "        vertical-align: top;\n",
       "    }\n",
       "\n",
       "    .dataframe thead th {\n",
       "        text-align: right;\n",
       "    }\n",
       "</style>\n",
       "<table border=\"1\" class=\"dataframe\">\n",
       "  <thead>\n",
       "    <tr style=\"text-align: right;\">\n",
       "      <th></th>\n",
       "      <th>Mobile_Name</th>\n",
       "      <th>Price</th>\n",
       "      <th>Ratings</th>\n",
       "      <th>Links</th>\n",
       "      <th>Discounts</th>\n",
       "    </tr>\n",
       "  </thead>\n",
       "  <tbody>\n",
       "    <tr>\n",
       "      <th>0</th>\n",
       "      <td>Samsung Galaxy M12 (Blue4GB RAM 64GB Storage) ...</td>\n",
       "      <td>10499</td>\n",
       "      <td>4.1 out of 5 stars</td>\n",
       "      <td>/Samsung-Galaxy-M12-Storage-Processor/dp/B08XG...</td>\n",
       "      <td>(19% off)</td>\n",
       "    </tr>\n",
       "    <tr>\n",
       "      <th>1</th>\n",
       "      <td>Samsung Galaxy M12 (Black4GB RAM 64GB Storage)...</td>\n",
       "      <td>10499</td>\n",
       "      <td>4.1 out of 5 stars</td>\n",
       "      <td>/Samsung-Galaxy-M12-Storage-Processor/dp/B08XJ...</td>\n",
       "      <td>(19% off)</td>\n",
       "    </tr>\n",
       "    <tr>\n",
       "      <th>2</th>\n",
       "      <td>Samsung Galaxy M32 (Light Blue 6GB RAM 128GB |...</td>\n",
       "      <td>13999</td>\n",
       "      <td>4.1 out of 5 stars</td>\n",
       "      <td>/Samsung-Galaxy-Storage-Months-Replacement/dp/...</td>\n",
       "      <td>(26% off)</td>\n",
       "    </tr>\n",
       "    <tr>\n",
       "      <th>3</th>\n",
       "      <td>Samsung Galaxy M32 (Black 4GB RAM 64GB | FHD+ ...</td>\n",
       "      <td>11999</td>\n",
       "      <td>4.1 out of 5 stars</td>\n",
       "      <td>/Samsung-Galaxy-Storage-Months-Replacement/dp/...</td>\n",
       "      <td>(29% off)</td>\n",
       "    </tr>\n",
       "    <tr>\n",
       "      <th>4</th>\n",
       "      <td>Samsung Galaxy S20 FE 5G (Cloud Navy 8GB RAM 1...</td>\n",
       "      <td>36990</td>\n",
       "      <td>4.4 out of 5 stars</td>\n",
       "      <td>/Samsung-Galaxy-Cloud-128GB-Storage/dp/B08VB57558</td>\n",
       "      <td>(51% off)</td>\n",
       "    </tr>\n",
       "    <tr>\n",
       "      <th>5</th>\n",
       "      <td>Samsung Galaxy M32 5G (Sky Blue 8GB RAM 128GB ...</td>\n",
       "      <td>22999</td>\n",
       "      <td>4.1 out of 5 stars</td>\n",
       "      <td>/Samsung-Galaxy-Blue-128GB-Storage/dp/B09CGJFY5N</td>\n",
       "      <td>(12% off)</td>\n",
       "    </tr>\n",
       "    <tr>\n",
       "      <th>6</th>\n",
       "      <td>Samsung Galaxy M12 (Blue6GB RAM 128GB Storage)...</td>\n",
       "      <td>12499</td>\n",
       "      <td>4.1 out of 5 stars</td>\n",
       "      <td>/Samsung-Galaxy-M12-Storage-Replacement/dp/B08...</td>\n",
       "      <td>(14% off)</td>\n",
       "    </tr>\n",
       "    <tr>\n",
       "      <th>7</th>\n",
       "      <td>Samsung Galaxy A13 Blue 4GB RAM 64GB Storage w...</td>\n",
       "      <td>13999</td>\n",
       "      <td>3.7 out of 5 stars</td>\n",
       "      <td>/Samsung-Storage-Additional-Exchange-SM-A135FL...</td>\n",
       "      <td>(24% off)</td>\n",
       "    </tr>\n",
       "    <tr>\n",
       "      <th>8</th>\n",
       "      <td>Samsung Galaxy M32 (Black 6GB RAM 128GB | FHD+...</td>\n",
       "      <td>13999</td>\n",
       "      <td>4.1 out of 5 stars</td>\n",
       "      <td>/Samsung-Galaxy-Storage-Months-Replacement/dp/...</td>\n",
       "      <td>(26% off)</td>\n",
       "    </tr>\n",
       "    <tr>\n",
       "      <th>9</th>\n",
       "      <td>Samsung Galaxy M33 5G (Deep Ocean Blue 8GB 128...</td>\n",
       "      <td>19499</td>\n",
       "      <td>3.9 out of 5 stars</td>\n",
       "      <td>/Samsung-Storage-Adapter-Purchased-Separately/...</td>\n",
       "      <td>(25% off)</td>\n",
       "    </tr>\n",
       "    <tr>\n",
       "      <th>10</th>\n",
       "      <td>Samsung Galaxy A23 Blue 6GB RAM 128GB Storage ...</td>\n",
       "      <td>18499</td>\n",
       "      <td>3.8 out of 5 stars</td>\n",
       "      <td>/Samsung-Galaxy-Storage-Additional-Exchange/dp...</td>\n",
       "      <td>(23% off)</td>\n",
       "    </tr>\n",
       "    <tr>\n",
       "      <th>11</th>\n",
       "      <td>Samsung Galaxy Buds Pro | 99% Noise Cancellati...</td>\n",
       "      <td>7490</td>\n",
       "      <td>4.2 out of 5 stars</td>\n",
       "      <td>/Samsung-Galaxy-Ear-Buds-Black/dp/B08SKDXKZF</td>\n",
       "      <td>(58% off)</td>\n",
       "    </tr>\n",
       "    <tr>\n",
       "      <th>12</th>\n",
       "      <td>Samsung Galaxy M32 (Light Blue 4GB RAM 64GB | ...</td>\n",
       "      <td>11999</td>\n",
       "      <td>4.1 out of 5 stars</td>\n",
       "      <td>/Samsung-Galaxy-Storage-Months-Replacement/dp/...</td>\n",
       "      <td>(29% off)</td>\n",
       "    </tr>\n",
       "    <tr>\n",
       "      <th>13</th>\n",
       "      <td>Samsung Galaxy M33 5G (Deep Ocean Blue 6GB 128...</td>\n",
       "      <td>17999</td>\n",
       "      <td>3.9 out of 5 stars</td>\n",
       "      <td>/Samsung-Storage-Adapter-Purchased-Separately/...</td>\n",
       "      <td>(28% off)</td>\n",
       "    </tr>\n",
       "    <tr>\n",
       "      <th>14</th>\n",
       "      <td>Samsung Galaxy M21 2021 Edition (Charcoal Blac...</td>\n",
       "      <td>12999</td>\n",
       "      <td>4.2 out of 5 stars</td>\n",
       "      <td>/Samsung-Charcoal-Storage-Replacement-SM-M215G...</td>\n",
       "      <td>(10% off)</td>\n",
       "    </tr>\n",
       "    <tr>\n",
       "      <th>15</th>\n",
       "      <td>Samsung Guru 1215 (GT-E1215 Black)</td>\n",
       "      <td>1494</td>\n",
       "      <td>3.9 out of 5 stars</td>\n",
       "      <td>/Samsung-Guru-1215-GT-E1215-Black/dp/B09MTVDZCL</td>\n",
       "      <td>(29% off)</td>\n",
       "    </tr>\n",
       "    <tr>\n",
       "      <th>16</th>\n",
       "      <td>Samsung Galaxy A13 Blue 6GB RAM 128GB Storage ...</td>\n",
       "      <td>16499</td>\n",
       "      <td>3.7 out of 5 stars</td>\n",
       "      <td>/Samsung-Storage-Additional-Exchange-SM-A135FL...</td>\n",
       "      <td>(17% off)</td>\n",
       "    </tr>\n",
       "    <tr>\n",
       "      <th>17</th>\n",
       "      <td>Samsung Galaxy A23 Peach 8GB RAM 128GB Storage...</td>\n",
       "      <td>19999</td>\n",
       "      <td>3.8 out of 5 stars</td>\n",
       "      <td>/Samsung-Galaxy-Storage-Additional-Exchange/dp...</td>\n",
       "      <td>(18% off)</td>\n",
       "    </tr>\n",
       "    <tr>\n",
       "      <th>18</th>\n",
       "      <td>Samsung Galaxy M53 5G (Mystique Green 6GB 128G...</td>\n",
       "      <td>26499</td>\n",
       "      <td>3.8 out of 5 stars</td>\n",
       "      <td>/Samsung-Mystique-Storage-Purchased-Separately...</td>\n",
       "      <td>(20% off)</td>\n",
       "    </tr>\n",
       "    <tr>\n",
       "      <th>19</th>\n",
       "      <td>Samsung Galaxy A13 Blue 4GB RAM 128GB Storage ...</td>\n",
       "      <td>14999</td>\n",
       "      <td>3.7 out of 5 stars</td>\n",
       "      <td>/Samsung-Storage-Additional-Exchange-SM-A135FL...</td>\n",
       "      <td>(25% off)</td>\n",
       "    </tr>\n",
       "    <tr>\n",
       "      <th>20</th>\n",
       "      <td>Samsung EHS64 EHS64AVFWECINU Wired In Ear Earp...</td>\n",
       "      <td>419</td>\n",
       "      <td>4.2 out of 5 stars</td>\n",
       "      <td>/Samsung-Original-EHS64AVFWECINU-Stereo-Headse...</td>\n",
       "      <td>(16% off)</td>\n",
       "    </tr>\n",
       "    <tr>\n",
       "      <th>21</th>\n",
       "      <td>Samsung Galaxy Watch4 Bluetooth(44mm Black Com...</td>\n",
       "      <td>15146</td>\n",
       "      <td>4.2 out of 5 stars</td>\n",
       "      <td>/Samsung-Galaxy-Bluetooth-Compatible-Android/d...</td>\n",
       "      <td>(50% off)</td>\n",
       "    </tr>\n",
       "    <tr>\n",
       "      <th>22</th>\n",
       "      <td>Samsung Guru Music 2 315 (GT-B315 Black) (SM-B...</td>\n",
       "      <td>1994</td>\n",
       "      <td>4.1 out of 5 stars</td>\n",
       "      <td>/Samsung-Guru-Music-GT-B315-Black/dp/B09MKT9ZYM</td>\n",
       "      <td>(20% off)</td>\n",
       "    </tr>\n",
       "    <tr>\n",
       "      <th>23</th>\n",
       "      <td>Samsung Galaxy M33 5G (Mystique Green 6GB 128G...</td>\n",
       "      <td>17999</td>\n",
       "      <td>3.9 out of 5 stars</td>\n",
       "      <td>/Samsung-Mystique-Storage-Purchased-Separately...</td>\n",
       "      <td>(28% off)</td>\n",
       "    </tr>\n",
       "  </tbody>\n",
       "</table>\n",
       "</div>"
      ],
      "text/plain": [
       "                                          Mobile_Name  Price  \\\n",
       "0   Samsung Galaxy M12 (Blue4GB RAM 64GB Storage) ...  10499   \n",
       "1   Samsung Galaxy M12 (Black4GB RAM 64GB Storage)...  10499   \n",
       "2   Samsung Galaxy M32 (Light Blue 6GB RAM 128GB |...  13999   \n",
       "3   Samsung Galaxy M32 (Black 4GB RAM 64GB | FHD+ ...  11999   \n",
       "4   Samsung Galaxy S20 FE 5G (Cloud Navy 8GB RAM 1...  36990   \n",
       "5   Samsung Galaxy M32 5G (Sky Blue 8GB RAM 128GB ...  22999   \n",
       "6   Samsung Galaxy M12 (Blue6GB RAM 128GB Storage)...  12499   \n",
       "7   Samsung Galaxy A13 Blue 4GB RAM 64GB Storage w...  13999   \n",
       "8   Samsung Galaxy M32 (Black 6GB RAM 128GB | FHD+...  13999   \n",
       "9   Samsung Galaxy M33 5G (Deep Ocean Blue 8GB 128...  19499   \n",
       "10  Samsung Galaxy A23 Blue 6GB RAM 128GB Storage ...  18499   \n",
       "11  Samsung Galaxy Buds Pro | 99% Noise Cancellati...   7490   \n",
       "12  Samsung Galaxy M32 (Light Blue 4GB RAM 64GB | ...  11999   \n",
       "13  Samsung Galaxy M33 5G (Deep Ocean Blue 6GB 128...  17999   \n",
       "14  Samsung Galaxy M21 2021 Edition (Charcoal Blac...  12999   \n",
       "15                 Samsung Guru 1215 (GT-E1215 Black)   1494   \n",
       "16  Samsung Galaxy A13 Blue 6GB RAM 128GB Storage ...  16499   \n",
       "17  Samsung Galaxy A23 Peach 8GB RAM 128GB Storage...  19999   \n",
       "18  Samsung Galaxy M53 5G (Mystique Green 6GB 128G...  26499   \n",
       "19  Samsung Galaxy A13 Blue 4GB RAM 128GB Storage ...  14999   \n",
       "20  Samsung EHS64 EHS64AVFWECINU Wired In Ear Earp...    419   \n",
       "21  Samsung Galaxy Watch4 Bluetooth(44mm Black Com...  15146   \n",
       "22  Samsung Guru Music 2 315 (GT-B315 Black) (SM-B...   1994   \n",
       "23  Samsung Galaxy M33 5G (Mystique Green 6GB 128G...  17999   \n",
       "\n",
       "               Ratings                                              Links  \\\n",
       "0   4.1 out of 5 stars  /Samsung-Galaxy-M12-Storage-Processor/dp/B08XG...   \n",
       "1   4.1 out of 5 stars  /Samsung-Galaxy-M12-Storage-Processor/dp/B08XJ...   \n",
       "2   4.1 out of 5 stars  /Samsung-Galaxy-Storage-Months-Replacement/dp/...   \n",
       "3   4.1 out of 5 stars  /Samsung-Galaxy-Storage-Months-Replacement/dp/...   \n",
       "4   4.4 out of 5 stars  /Samsung-Galaxy-Cloud-128GB-Storage/dp/B08VB57558   \n",
       "5   4.1 out of 5 stars   /Samsung-Galaxy-Blue-128GB-Storage/dp/B09CGJFY5N   \n",
       "6   4.1 out of 5 stars  /Samsung-Galaxy-M12-Storage-Replacement/dp/B08...   \n",
       "7   3.7 out of 5 stars  /Samsung-Storage-Additional-Exchange-SM-A135FL...   \n",
       "8   4.1 out of 5 stars  /Samsung-Galaxy-Storage-Months-Replacement/dp/...   \n",
       "9   3.9 out of 5 stars  /Samsung-Storage-Adapter-Purchased-Separately/...   \n",
       "10  3.8 out of 5 stars  /Samsung-Galaxy-Storage-Additional-Exchange/dp...   \n",
       "11  4.2 out of 5 stars       /Samsung-Galaxy-Ear-Buds-Black/dp/B08SKDXKZF   \n",
       "12  4.1 out of 5 stars  /Samsung-Galaxy-Storage-Months-Replacement/dp/...   \n",
       "13  3.9 out of 5 stars  /Samsung-Storage-Adapter-Purchased-Separately/...   \n",
       "14  4.2 out of 5 stars  /Samsung-Charcoal-Storage-Replacement-SM-M215G...   \n",
       "15  3.9 out of 5 stars    /Samsung-Guru-1215-GT-E1215-Black/dp/B09MTVDZCL   \n",
       "16  3.7 out of 5 stars  /Samsung-Storage-Additional-Exchange-SM-A135FL...   \n",
       "17  3.8 out of 5 stars  /Samsung-Galaxy-Storage-Additional-Exchange/dp...   \n",
       "18  3.8 out of 5 stars  /Samsung-Mystique-Storage-Purchased-Separately...   \n",
       "19  3.7 out of 5 stars  /Samsung-Storage-Additional-Exchange-SM-A135FL...   \n",
       "20  4.2 out of 5 stars  /Samsung-Original-EHS64AVFWECINU-Stereo-Headse...   \n",
       "21  4.2 out of 5 stars  /Samsung-Galaxy-Bluetooth-Compatible-Android/d...   \n",
       "22  4.1 out of 5 stars    /Samsung-Guru-Music-GT-B315-Black/dp/B09MKT9ZYM   \n",
       "23  3.9 out of 5 stars  /Samsung-Mystique-Storage-Purchased-Separately...   \n",
       "\n",
       "    Discounts  \n",
       "0   (19% off)  \n",
       "1   (19% off)  \n",
       "2   (26% off)  \n",
       "3   (29% off)  \n",
       "4   (51% off)  \n",
       "5   (12% off)  \n",
       "6   (14% off)  \n",
       "7   (24% off)  \n",
       "8   (26% off)  \n",
       "9   (25% off)  \n",
       "10  (23% off)  \n",
       "11  (58% off)  \n",
       "12  (29% off)  \n",
       "13  (28% off)  \n",
       "14  (10% off)  \n",
       "15  (29% off)  \n",
       "16  (17% off)  \n",
       "17  (18% off)  \n",
       "18  (20% off)  \n",
       "19  (25% off)  \n",
       "20  (16% off)  \n",
       "21  (50% off)  \n",
       "22  (20% off)  \n",
       "23  (28% off)  "
      ]
     },
     "execution_count": 19,
     "metadata": {},
     "output_type": "execute_result"
    }
   ],
   "source": [
    "import pandas as pd\n",
    "df2 = pd.read_csv(\"Samsung2.csv\", encoding=\"utf-8\")\n",
    "df2"
   ]
  },
  {
   "cell_type": "code",
   "execution_count": null,
   "metadata": {},
   "outputs": [],
   "source": [
    "df2_max=pd.DataFrame(df[df2.Price == df2.Price.max()])\n",
    "df2_min=pd.DataFrame(df[df2.Price == df2.Price.min()])"
   ]
  },
  {
   "cell_type": "code",
   "execution_count": null,
   "metadata": {},
   "outputs": [
    {
     "data": {
      "text/html": [
       "<div>\n",
       "<style scoped>\n",
       "    .dataframe tbody tr th:only-of-type {\n",
       "        vertical-align: middle;\n",
       "    }\n",
       "\n",
       "    .dataframe tbody tr th {\n",
       "        vertical-align: top;\n",
       "    }\n",
       "\n",
       "    .dataframe thead th {\n",
       "        text-align: right;\n",
       "    }\n",
       "</style>\n",
       "<table border=\"1\" class=\"dataframe\">\n",
       "  <thead>\n",
       "    <tr style=\"text-align: right;\">\n",
       "      <th></th>\n",
       "      <th>Mobile_Name</th>\n",
       "      <th>Price</th>\n",
       "      <th>Ratings</th>\n",
       "      <th>Links</th>\n",
       "      <th>Technical_Specifications</th>\n",
       "    </tr>\n",
       "  </thead>\n",
       "  <tbody>\n",
       "    <tr>\n",
       "      <th>4</th>\n",
       "      <td>SAMSUNG Galaxy F22 Denim Blue 128 GB</td>\n",
       "      <td>13999</td>\n",
       "      <td>4.3</td>\n",
       "      <td>/samsung-galaxy-f22-denim-blue-128-gb/p/itm30c...</td>\n",
       "      <td>6 GB RAM | 128 GB ROM | Expandable Upto 1 TB16...</td>\n",
       "    </tr>\n",
       "  </tbody>\n",
       "</table>\n",
       "</div>"
      ],
      "text/plain": [
       "                            Mobile_Name  Price  Ratings  \\\n",
       "4  SAMSUNG Galaxy F22 Denim Blue 128 GB  13999      4.3   \n",
       "\n",
       "                                               Links  \\\n",
       "4  /samsung-galaxy-f22-denim-blue-128-gb/p/itm30c...   \n",
       "\n",
       "                            Technical_Specifications  \n",
       "4  6 GB RAM | 128 GB ROM | Expandable Upto 1 TB16...  "
      ]
     },
     "execution_count": 21,
     "metadata": {},
     "output_type": "execute_result"
    }
   ],
   "source": [
    "df2_max"
   ]
  },
  {
   "cell_type": "code",
   "execution_count": null,
   "metadata": {},
   "outputs": [
    {
     "data": {
      "text/html": [
       "<div>\n",
       "<style scoped>\n",
       "    .dataframe tbody tr th:only-of-type {\n",
       "        vertical-align: middle;\n",
       "    }\n",
       "\n",
       "    .dataframe tbody tr th {\n",
       "        vertical-align: top;\n",
       "    }\n",
       "\n",
       "    .dataframe thead th {\n",
       "        text-align: right;\n",
       "    }\n",
       "</style>\n",
       "<table border=\"1\" class=\"dataframe\">\n",
       "  <thead>\n",
       "    <tr style=\"text-align: right;\">\n",
       "      <th></th>\n",
       "      <th>Mobile_Name</th>\n",
       "      <th>Price</th>\n",
       "      <th>Ratings</th>\n",
       "      <th>Links</th>\n",
       "      <th>Technical_Specifications</th>\n",
       "    </tr>\n",
       "  </thead>\n",
       "  <tbody>\n",
       "    <tr>\n",
       "      <th>20</th>\n",
       "      <td>SAMSUNG Galaxy F12 Celestial Black 64 GB</td>\n",
       "      <td>11499</td>\n",
       "      <td>4.3</td>\n",
       "      <td>/samsung-galaxy-f12-celestial-black-64-gb/p/it...</td>\n",
       "      <td>4 GB RAM | 64 GB ROM | Expandable Upto 512 GB1...</td>\n",
       "    </tr>\n",
       "  </tbody>\n",
       "</table>\n",
       "</div>"
      ],
      "text/plain": [
       "                                 Mobile_Name  Price  Ratings  \\\n",
       "20  SAMSUNG Galaxy F12 Celestial Black 64 GB  11499      4.3   \n",
       "\n",
       "                                                Links  \\\n",
       "20  /samsung-galaxy-f12-celestial-black-64-gb/p/it...   \n",
       "\n",
       "                             Technical_Specifications  \n",
       "20  4 GB RAM | 64 GB ROM | Expandable Upto 512 GB1...  "
      ]
     },
     "execution_count": 22,
     "metadata": {},
     "output_type": "execute_result"
    }
   ],
   "source": [
    "df2_min"
   ]
  },
  {
   "cell_type": "markdown",
   "metadata": {},
   "source": [
    "## Get the price of Samsung Galaxy F12 available with price comparison in Amazon & flipkart"
   ]
  },
  {
   "cell_type": "code",
   "execution_count": null,
   "metadata": {},
   "outputs": [],
   "source": [
    "#flipkart\n",
    "df3=pd.DataFrame(df[df.Mobile_Name == \"SAMSUNG Galaxy M12 Black 64 GB\"])\n"
   ]
  },
  {
   "cell_type": "code",
   "execution_count": null,
   "metadata": {},
   "outputs": [
    {
     "data": {
      "text/html": [
       "<div>\n",
       "<style scoped>\n",
       "    .dataframe tbody tr th:only-of-type {\n",
       "        vertical-align: middle;\n",
       "    }\n",
       "\n",
       "    .dataframe tbody tr th {\n",
       "        vertical-align: top;\n",
       "    }\n",
       "\n",
       "    .dataframe thead th {\n",
       "        text-align: right;\n",
       "    }\n",
       "</style>\n",
       "<table border=\"1\" class=\"dataframe\">\n",
       "  <thead>\n",
       "    <tr style=\"text-align: right;\">\n",
       "      <th></th>\n",
       "      <th>Mobile_Name</th>\n",
       "      <th>Price</th>\n",
       "      <th>Ratings</th>\n",
       "      <th>Links</th>\n",
       "      <th>Technical_Specifications</th>\n",
       "    </tr>\n",
       "  </thead>\n",
       "  <tbody>\n",
       "  </tbody>\n",
       "</table>\n",
       "</div>"
      ],
      "text/plain": [
       "Empty DataFrame\n",
       "Columns: [Mobile_Name, Price, Ratings, Links, Technical_Specifications]\n",
       "Index: []"
      ]
     },
     "execution_count": 24,
     "metadata": {},
     "output_type": "execute_result"
    }
   ],
   "source": [
    "df3"
   ]
  },
  {
   "cell_type": "code",
   "execution_count": null,
   "metadata": {},
   "outputs": [],
   "source": [
    "#amazon\n",
    "df4=pd.DataFrame(df2[df2.Mobile_Name == \"Samsung Galaxy M12 (Black4GB RAM 64GB Storage) 6000 mAh with 8nm Processor | True 48 MP Quad Camera | 90Hz Refresh Rate\"])"
   ]
  },
  {
   "cell_type": "code",
   "execution_count": null,
   "metadata": {},
   "outputs": [
    {
     "data": {
      "text/html": [
       "<div>\n",
       "<style scoped>\n",
       "    .dataframe tbody tr th:only-of-type {\n",
       "        vertical-align: middle;\n",
       "    }\n",
       "\n",
       "    .dataframe tbody tr th {\n",
       "        vertical-align: top;\n",
       "    }\n",
       "\n",
       "    .dataframe thead th {\n",
       "        text-align: right;\n",
       "    }\n",
       "</style>\n",
       "<table border=\"1\" class=\"dataframe\">\n",
       "  <thead>\n",
       "    <tr style=\"text-align: right;\">\n",
       "      <th></th>\n",
       "      <th>Mobile_Name</th>\n",
       "      <th>Price</th>\n",
       "      <th>Ratings</th>\n",
       "      <th>Links</th>\n",
       "      <th>Discounts</th>\n",
       "    </tr>\n",
       "  </thead>\n",
       "  <tbody>\n",
       "    <tr>\n",
       "      <th>1</th>\n",
       "      <td>Samsung Galaxy M12 (Black4GB RAM 64GB Storage)...</td>\n",
       "      <td>10499</td>\n",
       "      <td>4.1 out of 5 stars</td>\n",
       "      <td>/Samsung-Galaxy-M12-Storage-Processor/dp/B08XJ...</td>\n",
       "      <td>(19% off)</td>\n",
       "    </tr>\n",
       "  </tbody>\n",
       "</table>\n",
       "</div>"
      ],
      "text/plain": [
       "                                         Mobile_Name  Price  \\\n",
       "1  Samsung Galaxy M12 (Black4GB RAM 64GB Storage)...  10499   \n",
       "\n",
       "              Ratings                                              Links  \\\n",
       "1  4.1 out of 5 stars  /Samsung-Galaxy-M12-Storage-Processor/dp/B08XJ...   \n",
       "\n",
       "   Discounts  \n",
       "1  (19% off)  "
      ]
     },
     "execution_count": 26,
     "metadata": {},
     "output_type": "execute_result"
    }
   ],
   "source": [
    "df4"
   ]
  },
  {
   "cell_type": "code",
   "execution_count": null,
   "metadata": {},
   "outputs": [],
   "source": [
    "a=df3[\"Price\"]"
   ]
  },
  {
   "cell_type": "code",
   "execution_count": null,
   "metadata": {},
   "outputs": [
    {
     "data": {
      "text/plain": [
       "1    10499\n",
       "Name: Price, dtype: int64"
      ]
     },
     "execution_count": 28,
     "metadata": {},
     "output_type": "execute_result"
    }
   ],
   "source": [
    "df4[\"Price\"]\n"
   ]
  },
  {
   "cell_type": "markdown",
   "metadata": {},
   "source": [
    "Conclusion:\n",
    "Flipkart is expensive than amazon"
   ]
  }
 ],
 "metadata": {
  "interpreter": {
   "hash": "a9cff5a362bc38ef45d817ae74b1af54d6a076e3d773891282bce078b815ba34"
  },
  "kernelspec": {
   "display_name": "Python 3.10.1 64-bit",
   "language": "python",
   "name": "python3"
  },
  "language_info": {
   "codemirror_mode": {
    "name": "ipython",
    "version": 3
   },
   "file_extension": ".py",
   "mimetype": "text/x-python",
   "name": "python",
   "nbconvert_exporter": "python",
   "pygments_lexer": "ipython3",
   "version": "3.10.1"
  },
  "orig_nbformat": 4
 },
 "nbformat": 4,
 "nbformat_minor": 2
}
